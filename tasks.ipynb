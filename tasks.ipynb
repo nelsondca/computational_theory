{
 "cells": [
  {
   "cell_type": "markdown",
   "id": "fcb57e47",
   "metadata": {},
   "source": [
    "# Task 1: Binary Representations\n",
    "\n",
    "In this section, It creates some basic bit manipulation functions.\n",
    "Trying to rotate bits to the left\n",
    "\n",
    "References from https://github.com/ianmcloughlin/computational_theory/blob/main/materials/binary_representations.ipynb"
   ]
  },
  {
   "cell_type": "markdown",
   "id": "aa1bffc1",
   "metadata": {},
   "source": [
    "Implements rotl(x,n), rotating left"
   ]
  },
  {
   "cell_type": "code",
   "execution_count": 13,
   "id": "c6d97b11",
   "metadata": {},
   "outputs": [
    {
     "name": "stdout",
     "output_type": "stream",
     "text": [
      "0b10\n"
     ]
    }
   ],
   "source": [
    "# First try at rotate left... but I missed something\n",
    "\n",
    "def rotl(x, n=1):\n",
    "    return (x << n) | (x >> n)\n",
    "\n",
    "# Testing with a simple number that only has 1 bit on\n",
    "print(bin(rotl(0b00000000000000000000000000000001, 1)))\n"
   ]
  },
  {
   "cell_type": "markdown",
   "id": "7208171f",
   "metadata": {},
   "source": [
    "does not rotate correctly.\n",
    "shifted right by n, but to wrap the bits properly I should shift right by 32 - n. Also, forgot to make sure we stay within 32 bits ."
   ]
  },
  {
   "cell_type": "code",
   "execution_count": null,
   "id": "cba43b4f",
   "metadata": {},
   "outputs": [
    {
     "name": "stdout",
     "output_type": "stream",
     "text": [
      "0b10\n",
      "0b1\n"
     ]
    }
   ],
   "source": [
    "# Fixed it by wrapping the bits properly and keeping the result to 32 bits.\n",
    "# ref on https://github.com/ianmcloughlin/computational_theory/blob/main/materials/binary_representations.ipynb\n",
    "\n",
    "def rotatel(x, n=1):\n",
    "\n",
    "    return ((x << n) | (x >> (32 - n))) & 0xFFFFFFFF\n",
    "\n",
    "# Testing again\n",
    "print(bin(rotatel(0b00000000000000000000000000000001, 1)))  \n",
    "print(bin(rotatel(0x80000000, 1)))  \n"
   ]
  },
  {
   "cell_type": "markdown",
   "id": "551121fa",
   "metadata": {},
   "source": [
    "rotr (x,n-1) rotate right\n",
    "\n",
    "this is basically the opposite of the last one.\n",
    "rotating bits to the right, and wrapping it back to the left\n",
    "\n",
    "ref : https://github.com/ianmcloughlin/computational_theory/blob/main/materials/binary_representations.ipynb"
   ]
  },
  {
   "cell_type": "code",
   "execution_count": null,
   "id": "ee1d3e0c",
   "metadata": {},
   "outputs": [
    {
     "name": "stdout",
     "output_type": "stream",
     "text": [
      "0b101\n"
     ]
    }
   ],
   "source": [
    "# First attempt at rotating right – but something feels off\n",
    "\n",
    "def rotater(x, n=1):\n",
    "    return (x >> n) | (x << n)\n",
    "\n",
    "print(bin(rotater(0b00000000000000000000000000000010, 1)))  # expecting 0b1\n"
   ]
  },
  {
   "cell_type": "code",
   "execution_count": 22,
   "id": "378ad550",
   "metadata": {},
   "outputs": [
    {
     "name": "stdout",
     "output_type": "stream",
     "text": [
      "0b1\n",
      "0b10000000000000000000000000000000\n"
     ]
    }
   ],
   "source": [
    "# Fixed it \n",
    "def rotater(x, n=1):\n",
    "   \n",
    "    return ((x >> n) | (x << (32 - n))) & 0xFFFFFFFF\n",
    "\n",
    "print(bin(rotater(0b10, 1)))   \n",
    "print(bin(rotater(0b1, 1)))    \n"
   ]
  },
  {
   "cell_type": "markdown",
   "id": "8163e6ee",
   "metadata": {},
   "source": [
    "\n",
    "the `return ((x >> n) | (x << (32 - n))) & 0xFFFFFFFF` function spins the bits to the right by n steps making sure everything stays within 32 bits  see https://github.com/ianmcloughlin/computational_theory/blob/main/materials/binary_representations.ipynb sections: bitwise shift , bitwise OR , bit masking , integer size"
   ]
  },
  {
   "cell_type": "markdown",
   "id": "b548b46a",
   "metadata": {},
   "source": []
  }
 ],
 "metadata": {
  "kernelspec": {
   "display_name": "Python 3",
   "language": "python",
   "name": "python3"
  },
  "language_info": {
   "codemirror_mode": {
    "name": "ipython",
    "version": 3
   },
   "file_extension": ".py",
   "mimetype": "text/x-python",
   "name": "python",
   "nbconvert_exporter": "python",
   "pygments_lexer": "ipython3",
   "version": "3.12.3"
  }
 },
 "nbformat": 4,
 "nbformat_minor": 5
}
