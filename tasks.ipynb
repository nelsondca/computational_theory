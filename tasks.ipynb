{
 "cells": [
  {
   "cell_type": "markdown",
   "id": "fcb57e47",
   "metadata": {},
   "source": [
    "# Task 1: Binary Representations\n",
    "\n",
    "In this section, It creates some basic bit manipulation functions.\n",
    "Trying to rotate bits to the left\n",
    "\n",
    "References from https://github.com/ianmcloughlin/computational_theory/blob/main/materials/binary_representations.ipynb"
   ]
  },
  {
   "cell_type": "markdown",
   "id": "aa1bffc1",
   "metadata": {},
   "source": [
    "# rotl(x,n=1), rotating left that rotates the bits in a 32-bit unsigned integer to the left n places.\n",
    "\n"
   ]
  },
  {
   "cell_type": "code",
   "execution_count": 13,
   "id": "c6d97b11",
   "metadata": {},
   "outputs": [
    {
     "name": "stdout",
     "output_type": "stream",
     "text": [
      "0b10\n"
     ]
    }
   ],
   "source": [
    "# First try at rotate left... but I missed something\n",
    "\n",
    "def rotl(x, n=1):\n",
    "    return (x << n) | (x >> n)\n",
    "\n",
    "# Testing with a simple number that only has 1 bit on\n",
    "print(bin(rotl(0b00000000000000000000000000000001, 1)))\n"
   ]
  },
  {
   "cell_type": "markdown",
   "id": "7208171f",
   "metadata": {},
   "source": [
    "does not rotate correctly.\n",
    "shifted right by n, but to wrap the bits properly I should shift right by 32 - n. Also, forgot to make sure we stay within 32 bits ."
   ]
  },
  {
   "cell_type": "code",
   "execution_count": null,
   "id": "cba43b4f",
   "metadata": {},
   "outputs": [
    {
     "name": "stdout",
     "output_type": "stream",
     "text": [
      "0b10\n",
      "0b1\n"
     ]
    }
   ],
   "source": [
    "# Fixed it by wrapping the bits properly and keeping the result to 32 bits.\n",
    "# ref on https://github.com/ianmcloughlin/computational_theory/blob/main/materials/binary_representations.ipynb\n",
    "\n",
    "def rotatel(x, n=1):\n",
    "\n",
    "    return ((x << n) | (x >> (32 - n))) & 0xFFFFFFFF\n",
    "\n",
    "# Testing again\n",
    "print(bin(rotatel(0b00000000000000000000000000000001, 1)))  \n",
    "print(bin(rotatel(0x80000000, 1)))  \n"
   ]
  },
  {
   "cell_type": "markdown",
   "id": "551121fa",
   "metadata": {},
   "source": [
    "# rotr (x,n=1) that rotates the bits in a 32-bit unsigned integer to the right n places.\n",
    "\n",
    "\n",
    "\n",
    "\n",
    "\n",
    "this is basically the opposite of the last one.\n",
    "rotating bits to the right, and wrapping it back to the left\n",
    "\n",
    "ref : https://github.com/ianmcloughlin/computational_theory/blob/main/materials/binary_representations.ipynb"
   ]
  },
  {
   "cell_type": "code",
   "execution_count": null,
   "id": "ee1d3e0c",
   "metadata": {},
   "outputs": [
    {
     "name": "stdout",
     "output_type": "stream",
     "text": [
      "0b101\n"
     ]
    }
   ],
   "source": [
    "# First attempt at rotating right – but something feels off\n",
    "\n",
    "def rotater(x, n=1):\n",
    "    return (x >> n) | (x << n)\n",
    "\n",
    "print(bin(rotater(0b00000000000000000000000000000010, 1)))  # expecting 0b1\n"
   ]
  },
  {
   "cell_type": "code",
   "execution_count": 22,
   "id": "378ad550",
   "metadata": {},
   "outputs": [
    {
     "name": "stdout",
     "output_type": "stream",
     "text": [
      "0b1\n",
      "0b10000000000000000000000000000000\n"
     ]
    }
   ],
   "source": [
    "# Fixed it \n",
    "def rotater(x, n=1):\n",
    "   \n",
    "    return ((x >> n) | (x << (32 - n))) & 0xFFFFFFFF\n",
    "\n",
    "print(bin(rotater(0b10, 1)))   \n",
    "print(bin(rotater(0b1, 1)))    \n"
   ]
  },
  {
   "cell_type": "markdown",
   "id": "8163e6ee",
   "metadata": {},
   "source": [
    "\n",
    "the `return ((x >> n) | (x << (32 - n))) & 0xFFFFFFFF` function spins the bits to the right by n steps making sure everything stays within 32 bits  see https://github.com/ianmcloughlin/computational_theory/blob/main/materials/binary_representations.ipynb sections: bitwise shift , bitwise OR , bit masking , integer size"
   ]
  },
  {
   "cell_type": "markdown",
   "id": "b548b46a",
   "metadata": {},
   "source": []
  },
  {
   "cell_type": "markdown",
   "id": "f084f784",
   "metadata": {},
   "source": [
    "## ch ( x, y, z) that chooses the bits from y where x has bits set to 1 and bits in z where x has bits set to 0.\n",
    "\n",
    "This function is like a little decision-maker.  \n",
    "It looks at each bit of `x` — if it’s a 1, it picks the corresponding bit from `y`. If it’s a 0, it picks from `z`."
   ]
  },
  {
   "cell_type": "code",
   "execution_count": null,
   "id": "6dd833a1",
   "metadata": {},
   "outputs": [
    {
     "name": "stdout",
     "output_type": "stream",
     "text": [
      "0b1010\n"
     ]
    }
   ],
   "source": [
    "def ch(x, y, z):\n",
    "    return (x & y) | (x & z)\n",
    "\n",
    "print(bin(ch(0b1010, 0b1100, 0b0011)))\n"
   ]
  },
  {
   "cell_type": "code",
   "execution_count": 26,
   "id": "53b7f7e2",
   "metadata": {},
   "outputs": [
    {
     "name": "stdout",
     "output_type": "stream",
     "text": [
      "0b1001\n"
     ]
    }
   ],
   "source": [
    "\n",
    "def ch(x, y, z):\n",
    "   \n",
    "    return (x & y) ^ (~x & z)\n",
    "\n",
    "print(bin(ch(0b1010, 0b1100, 0b0011)))  \n",
    "\n"
   ]
  },
  {
   "cell_type": "markdown",
   "id": "9aac553d",
   "metadata": {},
   "source": [
    "The ch(x, y, z) function is based on bitwise operations covered in the Bitwise AND, OR, XOR, and NOT sections see ref: https://github.com/ianmcloughlin/computational_theory/blob/main/materials/binary_representations.ipynb combining them to make a per-bit logic - \"if x then y else z\""
   ]
  },
  {
   "cell_type": "markdown",
   "id": "49a13422",
   "metadata": {},
   "source": [
    "## maj(x, y, z)  which takes a majority vote of the bits in x, y, and z.\n",
    "The output should have a 1 in bit position i where at least two of x, y, and z have 1's in position i.\n",
    "All other output bit positions should be 0.\n",
    "\n",
    "This function is used in hashing algorithms to \"vote\" on each bit.\n",
    "For each bit position `i`, it returns 1 if at least **two** of `x`, `y`, and `z` have a 1 in that position.\n",
    "\n",
    "Example:  \n",
    "- x = 1010  \n",
    "- y = 1111  \n",
    "- z = 0000  \n",
    "→ maj = 1010 (only positions where at least two are 1)\n"
   ]
  },
  {
   "cell_type": "code",
   "execution_count": 3,
   "id": "50addb01",
   "metadata": {},
   "outputs": [
    {
     "name": "stdout",
     "output_type": "stream",
     "text": [
      "0b1111\n"
     ]
    }
   ],
   "source": [
    "def maj(x, y, z):\n",
    "    \n",
    "    return x | y | z\n",
    "\n",
    "# Testing \n",
    "print(bin(maj(0b1010, 0b1100, 0b0011))) \n"
   ]
  },
  {
   "cell_type": "code",
   "execution_count": 5,
   "id": "5ceaf649",
   "metadata": {},
   "outputs": [
    {
     "name": "stdout",
     "output_type": "stream",
     "text": [
      "x: 10101010\n",
      "y: 11110000\n",
      "z: 00001111\n",
      "maj: 10101010\n"
     ]
    }
   ],
   "source": [
    "def maj(x, y, z):\n",
    "    # Majority function: returns 1 if two or more of the bits are 1\n",
    "    # and 0 otherwise.\n",
    "    return (x & y) ^ (x & z) ^ (y & z)\n",
    "\n",
    "# Testing a few values:\n",
    "x = 0b10101010\n",
    "y = 0b11110000\n",
    "z = 0b00001111\n",
    "\n",
    "print(\"x:\", format(x, '08b'))\n",
    "print(\"y:\", format(y, '08b'))\n",
    "print(\"z:\", format(z, '08b'))\n",
    "print(\"maj:\", format(maj(x, y, z), '08b'))\n"
   ]
  },
  {
   "cell_type": "markdown",
   "id": "a5e4481e",
   "metadata": {},
   "source": []
  }
 ],
 "metadata": {
  "kernelspec": {
   "display_name": "Python 3",
   "language": "python",
   "name": "python3"
  },
  "language_info": {
   "codemirror_mode": {
    "name": "ipython",
    "version": 3
   },
   "file_extension": ".py",
   "mimetype": "text/x-python",
   "name": "python",
   "nbconvert_exporter": "python",
   "pygments_lexer": "ipython3",
   "version": "3.12.3"
  }
 },
 "nbformat": 4,
 "nbformat_minor": 5
}
