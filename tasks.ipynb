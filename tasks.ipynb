{
 "cells": [
  {
   "cell_type": "markdown",
   "id": "fcb57e47",
   "metadata": {},
   "source": [
    "# Task 1: Binary Representations\n",
    "\n",
    "In this section, It creates some basic bit manipulation functions.\n",
    "Trying to rotate bits to the left\n",
    "\n",
    "References from https://github.com/ianmcloughlin/computational_theory/blob/main/materials/binary_representations.ipynb"
   ]
  },
  {
   "cell_type": "markdown",
   "id": "aa1bffc1",
   "metadata": {},
   "source": [
    "# rotl(x,n=1), rotating left that rotates the bits in a 32-bit unsigned integer to the left n places.\n",
    "\n"
   ]
  },
  {
   "cell_type": "markdown",
   "id": "58ceede8",
   "metadata": {},
   "source": [
    "This  correctly rotates bits to the left in a 32-bit integer.\n",
    "\n",
    "(x << n): shifts bits to the left.\n",
    "\n",
    "(x >> (32 - n)): takes the bits that \"fall off\" the left end and wraps them around to the right side.\n",
    "\n",
    "| (bitwise OR) combines both parts.\n",
    "\n",
    "& 0xFFFFFFFF: this masks the result to keep only the lowest 32 bits, removing any overflow."
   ]
  },
  {
   "cell_type": "code",
   "execution_count": null,
   "id": "cba43b4f",
   "metadata": {},
   "outputs": [
    {
     "name": "stdout",
     "output_type": "stream",
     "text": [
      "0b10\n",
      "0b1\n"
     ]
    }
   ],
   "source": [
    "# Fixed it by wrapping the bits properly and keeping the result to 32 bits.\n",
    "# ref on https://github.com/ianmcloughlin/computational_theory/blob/main/materials/binary_representations.ipynb\n",
    "\n",
    "def rotatel(x, n=1):\n",
    "\n",
    "    return ((x << n) | (x >> (32 - n))) & 0xFFFFFFFF\n",
    "\n",
    "# Testing \n",
    "print(bin(rotatel(0b00000000000000000000000000000001, 1)))  \n",
    "print(bin(rotatel(0x80000000, 1)))  \n"
   ]
  },
  {
   "cell_type": "markdown",
   "id": "551121fa",
   "metadata": {},
   "source": [
    "# rotr (x,n=1) that rotates the bits in a 32-bit unsigned integer to the right n places.\n",
    "\n",
    "\n",
    "\n",
    "\n",
    "\n",
    "this is basically the opposite of the last one.\n",
    "rotating bits to the right, and wrapping it back to the left\n",
    "\n",
    "ref : https://github.com/ianmcloughlin/computational_theory/blob/main/materials/binary_representations.ipynb"
   ]
  },
  {
   "cell_type": "code",
   "execution_count": 25,
   "id": "378ad550",
   "metadata": {},
   "outputs": [
    {
     "name": "stdout",
     "output_type": "stream",
     "text": [
      "0b1\n",
      "0b10000000000000000000000000000000\n"
     ]
    }
   ],
   "source": [
    "# Fixed version of rotate right (within 32-bit range)\n",
    "def rotater(x, n=1):\n",
    "    # Shift the bits to the right by n places\n",
    "    # Then shift the bits to the left by (32 - n) to wrap the \"lost\" bits back to the front\n",
    "    # Finally, use & 0xFFFFFFFF to keep only the lowest 32 bits\n",
    "    return ((x >> n) | (x << (32 - n))) & 0xFFFFFFFF\n",
    "\n",
    "# Test 1: rotate binary '10' (which is 2) to the right by 1 → expect '1'\n",
    "print(bin(rotater(0b10, 1)))\n",
    "\n",
    "# Test 2: rotate binary '1' to the right by 1 → expect bit to move to highest (leftmost) position\n",
    "print(bin(rotater(0b1, 1)))\n"
   ]
  },
  {
   "cell_type": "markdown",
   "id": "8163e6ee",
   "metadata": {},
   "source": [
    "\n",
    "the `return ((x >> n) | (x << (32 - n))) & 0xFFFFFFFF` function spins the bits to the right by n steps making sure everything stays within 32 bits  see https://github.com/ianmcloughlin/computational_theory/blob/main/materials/binary_representations.ipynb sections: bitwise shift , bitwise OR , bit masking , integer size"
   ]
  },
  {
   "cell_type": "markdown",
   "id": "f084f784",
   "metadata": {},
   "source": [
    "## ch ( x, y, z) that chooses the bits from y where x has bits set to 1 and bits in z where x has bits set to 0.\n",
    "\n",
    "This function is like a little decision-maker.  \n",
    "It looks at each bit of `x` — if it’s a 1, it picks the corresponding bit from `y`. If it’s a 0, it picks from `z`."
   ]
  },
  {
   "cell_type": "code",
   "execution_count": 26,
   "id": "53b7f7e2",
   "metadata": {},
   "outputs": [
    {
     "name": "stdout",
     "output_type": "stream",
     "text": [
      "0b1001\n",
      "0b1000\n",
      "0b1\n"
     ]
    }
   ],
   "source": [
    "# CHOOSE function: used in SHA-256 and other cryptographic functions.\n",
    "# For each bit: if the bit in x is 1 → choose the bit from y, else from z.\n",
    "def ch(x, y, z):\n",
    "    return (x & y) ^ (~x & z)\n",
    "\n",
    "# Test cases\n",
    "\n",
    "# x = 1010\n",
    "# Picks from y where x is 1 (positions 3 and 1), and from z where x is 0 (positions 2 and 0)\n",
    "# y = 1100, z = 0011 → expected result = 1010\n",
    "print(bin(ch(0b1010, 0b1100, 0b0011)))  \n",
    "\n",
    "# z is all 0s → result should be just the y bits where x is 1 → expect 0b1000\n",
    "print(bin(ch(0b1010, 0b1100, 0b0000)))  \n",
    "\n",
    "# y is 0s → we only get bits from z where x is 0 → expect 0b0000\n",
    "print(bin(ch(0b1010, 0b0000, 0b0011)))  \n",
    "\n",
    "# y = 1100, z = 1\n"
   ]
  },
  {
   "cell_type": "markdown",
   "id": "9aac553d",
   "metadata": {},
   "source": [
    "The ch(x, y, z) function is based on bitwise operations covered in the Bitwise AND, OR, XOR, and NOT sections see ref: https://github.com/ianmcloughlin/computational_theory/blob/main/materials/binary_representations.ipynb combining them to make a per-bit logic - \"if x then y else z\""
   ]
  },
  {
   "cell_type": "markdown",
   "id": "49a13422",
   "metadata": {},
   "source": [
    "## maj(x, y, z)  which takes a majority vote of the bits in x, y, and z.\n",
    "The output should have a 1 in bit position i where at least two of x, y, and z have 1's in position i.\n",
    "All other output bit positions should be 0.\n",
    "\n",
    "This function is used in hashing algorithms to \"vote\" on each bit.\n",
    "For each bit position `i`, it returns 1 if at least **two** of `x`, `y`, and `z` have a 1 in that position.\n",
    "\n",
    "Example:  \n",
    "- x = 1010  \n",
    "- y = 1111  \n",
    "- z = 0000  \n",
    "→ maj = 1010 (only positions where at least two are 1)\n"
   ]
  },
  {
   "cell_type": "code",
   "execution_count": 28,
   "id": "5ceaf649",
   "metadata": {},
   "outputs": [
    {
     "name": "stdout",
     "output_type": "stream",
     "text": [
      "x:    10101010\n",
      "y:    11110000\n",
      "z:    00001111\n",
      "maj:  10101010\n"
     ]
    }
   ],
   "source": [
    "# Majority function: returns 1 in each bit position where at least 2 of x, y, z have a 1\n",
    "def maj(x, y, z):\n",
    "    return (x & y) ^ (x & z) ^ (y & z)\n",
    "\n",
    "# Test values in binary\n",
    "x = 0b10101010  # alternating 1s and 0s\n",
    "y = 0b11110000  # first half 1s, second half 0s\n",
    "z = 0b00001111  # first half 0s, second half 1s\n",
    "\n",
    "# Show inputs in 8-bit binary format\n",
    "print(\"x:   \", format(x, '08b'))\n",
    "print(\"y:   \", format(y, '08b'))\n",
    "print(\"z:   \", format(z, '08b'))\n",
    "\n",
    "# Show result of the majority function\n",
    "print(\"maj: \", format(maj(x, y, z), '08b'))\n"
   ]
  },
  {
   "cell_type": "markdown",
   "id": "d1b4b078",
   "metadata": {},
   "source": [
    "### How the maj(x, y, z) logic works\n",
    "\n",
    "The formula `(x & y) ^ (x & z) ^ (y & z)` works because it captures all the cases where **two or more** inputs have a 1.\n",
    "\n",
    "\n",
    "- `x & y` → 1 only if both x and y have 1\n",
    "- `x & z` → 1 if x and z do\n",
    "- `y & z` → 1 if y and z do\n",
    "Then XOR-ing all three gives us 1 in any position where **at least two** inputs have 1s.\n",
    "\n",
    "results based on Bitwise (&) and XOR referenced in https://github.com/ianmcloughlin/computational_theory/blob/main/materials/binary_representations.ipynb \n",
    "\n",
    "- bitwise AND : talks how xx & y returns 1 only when both bits are 1.\n",
    "- bitwise XOR : usefull when combining partial matches lin ( x & y ) ^ ( x & z) ^ (y & z).\n"
   ]
  },
  {
   "cell_type": "markdown",
   "id": "1e428abc",
   "metadata": {},
   "source": [
    "# Task 2: Hash Functions\n",
    "\n",
    "translation of a hash function from C into Python.\n",
    "\n"
   ]
  },
  {
   "cell_type": "markdown",
   "id": "03081383",
   "metadata": {},
   "source": [
    "the goals is to \n",
    "- Convert the function to Python.\n",
    "\n",
    "- Test it with a few strings.\n",
    "\n",
    "- Explain why 31 and 101 are used.\n",
    "\n",
    "- Include mistake version first, then correct version.\n",
    "\n",
    "- Add natural markdown, comments, and commits."
   ]
  },
  {
   "cell_type": "code",
   "execution_count": 29,
   "id": "096de77c",
   "metadata": {},
   "outputs": [
    {
     "name": "stdout",
     "output_type": "stream",
     "text": [
      "Hash of 'hello': 17\n",
      "Hash of 'abc': 0\n",
      "Hash of 'hashing': 25\n",
      "Hash of 'function': 100\n",
      "Hash of 'test': 86\n",
      "Hash of 'example': 28\n",
      "Hash of 'data': 55\n"
     ]
    }
   ],
   "source": [
    "# A simple unsigned hash function for strings\n",
    "def unsigned_hash(s):\n",
    "    hashval = 0  # Start with a hash value of 0\n",
    "    \n",
    "    # Go through each character in the input string\n",
    "    for char in s:\n",
    "        # Update the hash using a common technique: multiply current hash by 31 and add the character's ASCII value\n",
    "        hashval = ord(char) + 31 * hashval\n",
    "\n",
    "    # Keep the final result small by using modulo 101 (a small prime number)\n",
    "    return hashval % 101\n",
    "\n",
    "# Testing the unsigned_hash function with different example strings\n",
    "print(\"Hash of 'hello':\", unsigned_hash(\"hello\"))\n",
    "print(\"Hash of 'abc':\", unsigned_hash(\"abc\"))\n",
    "print(\"Hash of 'hashing':\", unsigned_hash(\"hashing\"))\n",
    "print(\"Hash of 'function':\", unsigned_hash(\"function\"))\n",
    "print(\"Hash of 'test':\", unsigned_hash(\"test\"))\n",
    "print(\"Hash of 'example':\", unsigned_hash(\"example\"))\n",
    "print(\"Hash of 'data':\", unsigned_hash(\"data\"))\n"
   ]
  },
  {
   "cell_type": "markdown",
   "id": "ca35469e",
   "metadata": {},
   "source": [
    "## Conluding"
   ]
  },
  {
   "cell_type": "markdown",
   "id": "a594f303",
   "metadata": {},
   "source": [
    "## Why 31 and 101?\n",
    "\n",
    "The unsigned_hash(s) function uses the logic described in see reference: https://github.com/ianmcloughlin/computational_theory/blob/main/materials/prime_numbers.ipynb \n",
    "- it multiplies by 31 (a small prime that can be computed efficiently using bit shifting) and uses modulo 101 (another prime) to keep the hash within a fixed range. The use of bitwise shift (<<) as a fast multiplication method see reference : https://github.com/ianmcloughlin/computational_theory/blob/main/materials/binary_representations.ipynb"
   ]
  },
  {
   "cell_type": "markdown",
   "id": "c84b8373",
   "metadata": {},
   "source": [
    "# Task 3: SHA256 \n",
    "\n",
    "Write a Python function that calculates the SHA256 padding for a given file.\n",
    "\n",
    "- The function should take a file path as input.\n",
    "- It should print, in hex, the padding that would be applied to it.\n",
    "- The specification states that the following should be appended to a message:\n",
    "\n",
    "- a 1 bit;\n",
    "- enough 0 bits so the length in bits of padded message is the smallest possible multiple of 512;\n",
    "- the length in bits of the original input as a big-endian 64-bit unsigned integer.\n",
    "\n",
    "The example in the specification is a file containing the three bytes abc:\n",
    "\n",
    "01100001 01100010 01100011\n",
    "\n",
    "The output would be:\n",
    "\n",
    "80 00 00 00 00 00 00 00 00 00 00 00 00 00 00 00 00 00 00 00 00 00 00 00 00 00\n",
    "00 00 00 00 00 00 00 00 00 00 00 00 00 00 00 00 00 00 00 00 00 00 00 00 00 00\n",
    "00 00 00 00 00 00 00 00 18\n"
   ]
  },
  {
   "cell_type": "code",
   "execution_count": 30,
   "id": "a0a6a5d8",
   "metadata": {},
   "outputs": [],
   "source": [
    "def sha256_padding(file_path):\n",
    "    # Open the file in binary mode and read its contents\n",
    "    with open(file_path, \"rb\") as f:\n",
    "        data = f.read()\n",
    "\n",
    "    # Calculate the original length of the message in bits\n",
    "    bit_len = len(data) * 8\n",
    "\n",
    "    # Start padding with a single '1' bit (which is 0x80 in hex)\n",
    "    padding = b'\\x80'\n",
    "\n",
    "    # Add '0' bits (as 0x00 bytes) until the total length (message + padding + length field)\n",
    "    # is 64 bits (8 bytes) short of a multiple of 512\n",
    "    while (len(data) + len(padding) + 8) % 64 != 0:\n",
    "        padding += b'\\x00'\n",
    "\n",
    "    # Convert the original bit length to an 8-byte big-endian value\n",
    "    bit_len_bytes = bit_len.to_bytes(8, 'big')\n",
    "\n",
    "    # Combine everything: original data + padding + bit length\n",
    "    padded = data + padding + bit_len_bytes\n",
    "\n",
    "    # Print the full padded message in hexadecimal format\n",
    "    print(\"Padded message (hex):\", padded.hex())\n"
   ]
  },
  {
   "cell_type": "code",
   "execution_count": null,
   "id": "9ba02a3c",
   "metadata": {},
   "outputs": [],
   "source": [
    "def sha256_padding(file_path):\n",
    "    # Read file content in binary mode\n",
    "    with open(file_path, \"rb\") as f:\n",
    "        data = f.read()\n",
    "\n",
    "    # Calculate the original message length in bits\n",
    "    bit_len = len(data) * 8\n",
    "\n",
    "    # Start padding with the bit '1' followed by 7 zeros = 0x80 in hex\n",
    "    padding = b'\\x80'\n",
    "\n",
    "    # Add zero bytes (0x00) until total length is 8 bytes short of a multiple of 64\n",
    "    # Final 8 bytes will be used to store the bit length\n",
    "    while (len(data) + len(padding) + 8) % 64 != 0:\n",
    "        padding += b'\\x00'\n",
    "\n",
    "    # Convert bit length to 8-byte (64-bit) big-endian format\n",
    "    bit_len_bytes = bit_len.to_bytes(8, 'big')\n",
    "\n",
    "    # Final padded message: data + padding + length\n",
    "    padded_msg = data + padding + bit_len_bytes\n",
    "\n",
    "    # Save full padding section (padding + length field) separately for inspection\n",
    "    full_padding = padding + bit_len_bytes\n",
    "\n",
    "    # Print breakdown for learning/debugging\n",
    "    print(\"Original data (hex):\", data.hex())\n",
    "    print(\"Padding (hex):\", padding.hex())\n",
    "    print(\"Length bytes (hex):\", bit_len_bytes.hex())\n",
    "    print(\"Full padded message (hex):\", padded_msg.hex())\n",
    "    print(\"Padded message length (bytes):\", len(padded_msg))\n",
    "    print(\"Padded message length (bits):\", len(padded_msg) * 8)\n",
    "\n",
    "    print(\"\\nPadding Output:\")\n",
    "    print(\" \".join(f\"{byte:02x}\" for byte in full_padding))\n",
    "\n",
    "    # Return padded message for further use\n",
    "    return padded_msg\n"
   ]
  },
  {
   "cell_type": "code",
   "execution_count": 32,
   "id": "e6627671",
   "metadata": {},
   "outputs": [
    {
     "name": "stdout",
     "output_type": "stream",
     "text": [
      "Original data (hex): 616263\n",
      "Padding (hex): 8000000000000000000000000000000000000000000000000000000000000000000000000000000000000000000000000000000000\n",
      "Length bytes (hex): 0000000000000018\n",
      "Full padded message (hex): 61626380000000000000000000000000000000000000000000000000000000000000000000000000000000000000000000000000000000000000000000000018\n",
      "Padded message length (bytes): 64\n",
      "Padded message length (bits): 512\n",
      "\n",
      "Padding Output:\n",
      "80 00 00 00 00 00 00 00 00 00 00 00 00 00 00 00 00 00 00 00 00 00 00 00 00 00 00 00 00 00 00 00 00 00 00 00 00 00 00 00 00 00 00 00 00 00 00 00 00 00 00 00 00 00 00 00 00 00 00 00 18\n"
     ]
    },
    {
     "data": {
      "text/plain": [
       "b'abc\\x80\\x00\\x00\\x00\\x00\\x00\\x00\\x00\\x00\\x00\\x00\\x00\\x00\\x00\\x00\\x00\\x00\\x00\\x00\\x00\\x00\\x00\\x00\\x00\\x00\\x00\\x00\\x00\\x00\\x00\\x00\\x00\\x00\\x00\\x00\\x00\\x00\\x00\\x00\\x00\\x00\\x00\\x00\\x00\\x00\\x00\\x00\\x00\\x00\\x00\\x00\\x00\\x00\\x00\\x00\\x00\\x00\\x00\\x00\\x00\\x18'"
      ]
     },
     "execution_count": 32,
     "metadata": {},
     "output_type": "execute_result"
    }
   ],
   "source": [
    "sha256_padding(\"abc.txt\")\n"
   ]
  },
  {
   "cell_type": "markdown",
   "id": "fcf6934e",
   "metadata": {},
   "source": [
    "The sha256_padding() function implements the SHA-256 message padding procedure mentioned in Motivation under Binary Representations (FIPS PUB 180-4 see reference: https://github.com/ianmcloughlin/computational_theory/blob/main/materials/binary_representations.ipynb) . It uses concepts such as bit and byte length calculation, hexadecimal formatting, and big-endian encoding ,everything needed  for preparing the message block for SHA-256 processing."
   ]
  },
  {
   "cell_type": "markdown",
   "id": "7099571d",
   "metadata": {},
   "source": [
    "# Task 4: Prime Numbers\n",
    "\n",
    "Calculate the first 100 prime numbers using two different algorithms.\n",
    "Any algorithms that are well-established and works correctly are okay to use.\n",
    "Explain how the algorithms work."
   ]
  },
  {
   "cell_type": "markdown",
   "id": "3e80900d",
   "metadata": {},
   "source": [
    "## Trial Division Method\n",
    "\n",
    "This method checks each number starting from 2 and sees if it's divisible by any smaller number up to its square root.\n",
    "\n",
    "It’s simple but slow, especially for large ranges. Still, it’s a good way to understand how primality checking works.\n",
    "\n",
    "The concept of primes is mentioned in see reference: https://www.khanacademy.org/computing/computer-science/cryptography/comp-number-theory/a/trial-division\n"
   ]
  },
  {
   "cell_type": "code",
   "execution_count": 33,
   "id": "b86f6617",
   "metadata": {},
   "outputs": [
    {
     "name": "stdout",
     "output_type": "stream",
     "text": [
      "[2, 3, 5, 7, 11, 13, 17, 19, 23, 29, 31, 37, 41, 43, 47, 53, 59, 61, 67, 71, 73, 79, 83, 89, 97, 101, 103, 107, 109, 113, 127, 131, 137, 139, 149, 151, 157, 163, 167, 173, 179, 181, 191, 193, 197, 199, 211, 223, 227, 229, 233, 239, 241, 251, 257, 263, 269, 271, 277, 281, 283, 293, 307, 311, 313, 317, 331, 337, 347, 349, 353, 359, 367, 373, 379, 383, 389, 397, 401, 409, 419, 421, 431, 433, 439, 443, 449, 457, 461, 463, 467, 479, 487, 491, 499, 503, 509, 521, 523, 541]\n",
      "Count: 100\n"
     ]
    }
   ],
   "source": [
    "# Function to check if a number is prime\n",
    "def is_prime(n):\n",
    "    if n < 2:\n",
    "        return False  # 0 and 1 are not prime\n",
    "    # Check for divisibility up to the square root of n\n",
    "    for i in range(2, int(n**0.5) + 1):\n",
    "        if n % i == 0:  # If divisible, it's not prime\n",
    "            return False\n",
    "    return True  # If no divisors found, it's prime\n",
    "\n",
    "# Function to find the first 100 prime numbers using the trial division method\n",
    "def first_100_primes_trial():\n",
    "    primes = []  # List to store prime numbers\n",
    "    num = 2      # Start checking from 2 (first prime)\n",
    "\n",
    "    while len(primes) < 100:  # Stop once we have 100 primes\n",
    "        if is_prime(num):     # Check if current number is prime\n",
    "            primes.append(num)  # If so, add it to the list\n",
    "        num += 1  # Move to the next number\n",
    "\n",
    "    return primes  # Return the full list of 100 primes\n",
    "\n",
    "# Generate and print the first 100 primes\n",
    "primes_trial = first_100_primes_trial()\n",
    "print(primes_trial)\n",
    "print(\"Count:\", len(primes_trial))\n"
   ]
  },
  {
   "cell_type": "markdown",
   "id": "25f9288a",
   "metadata": {},
   "source": [
    "## Eratosthenes version - How It Works\n",
    "\n",
    "The **Sieve of Eratosthenes** is a classic and much more efficient algorithm to generate a list of prime numbers.\n",
    "\n",
    "Here's how it works:\n",
    "1. Create a list of `True` values representing whether numbers from 0 to N are prime.\n",
    "2. Set index 0 and 1 to `False` (they are not prime).\n",
    "3. Start with the number 2 (the first prime).\n",
    "4. For each number that is still marked as `True`, mark **all of its multiples** (starting from its square) as `False`.\n",
    "   - Why start from the square? Because smaller multiples will have already been crossed out by smaller primes.\n",
    "5. Continue until you've marked all non-primes.\n",
    "\n",
    "This method avoids checking each number individually, and instead **eliminates composites in bulk**, which is much faster.\n",
    "\n",
    "**Example** (first few steps):\n",
    "- Start with 2 → cross out 4, 6, 8...\n",
    "- Move to 3 → cross out 6, 9, 12...\n",
    "- Move to next unmarked number (5) → cross out 10, 15, 20...\n",
    "\n",
    "By the time you reach √N, all remaining `True` positions in the list are prime.\n",
    "\n",
    "**Key advantages**:\n",
    "- Much faster than trial division\n",
    "- Perfect for generating many primes up to a known limit\n",
    "\n",
    "This algorithm is described in, see reference: https://en.wikipedia.org/wiki/Sieve_of_Eratosthenes ; https://en.wikipedia.org/wiki/Sieve_of_Eratosthenes"
   ]
  },
  {
   "cell_type": "code",
   "execution_count": 36,
   "id": "f8990852",
   "metadata": {},
   "outputs": [
    {
     "name": "stdout",
     "output_type": "stream",
     "text": [
      "[2, 3, 5, 7, 11, 13, 17, 19, 23, 29, 31, 37, 41, 43, 47, 53, 59, 61, 67, 71, 73, 79, 83, 89, 97, 101, 103, 107, 109, 113, 127, 131, 137, 139, 149, 151, 157, 163, 167, 173, 179, 181, 191, 193, 197, 199, 211, 223, 227, 229, 233, 239, 241, 251, 257, 263, 269, 271, 277, 281, 283, 293, 307, 311, 313, 317, 331, 337, 347, 349, 353, 359, 367, 373, 379, 383, 389, 397, 401, 409, 419, 421, 431, 433, 439, 443, 449, 457, 461, 463, 467, 479, 487, 491, 499, 503, 509, 521, 523, 541]\n",
      "Total: 100\n"
     ]
    }
   ],
   "source": [
    "# Sieve of Eratosthenes: Efficient way to find prime numbers up to a limit\n",
    "def sieve_primes(limit):\n",
    "    # Create a list where all numbers are initially marked as prime (True)\n",
    "    sieve = [True] * (limit + 1)\n",
    "\n",
    "    # Mark 0 and 1 as not prime\n",
    "    sieve[0:2] = [False, False]\n",
    "\n",
    "    # List to store found primes\n",
    "    primes = []\n",
    "\n",
    "    # Start checking from 2 up to the limit\n",
    "    for num in range(2, limit + 1):\n",
    "        if sieve[num]:\n",
    "            primes.append(num)  # Add to list if still marked as prime\n",
    "\n",
    "            # Mark all multiples of this number as not prime\n",
    "            for multiple in range(num * num, limit + 1, num):\n",
    "                sieve[multiple] = False\n",
    "\n",
    "        # Stop once we’ve found the first 100 primes\n",
    "        if len(primes) == 100:\n",
    "            break\n",
    "\n",
    "    return primes\n",
    "\n",
    "# Run the sieve function up to 600 to get the first 100 primes\n",
    "primes_sieve = sieve_primes(600)\n",
    "print(primes_sieve)\n",
    "print(\"Total:\", len(primes_sieve))\n"
   ]
  },
  {
   "cell_type": "markdown",
   "id": "9c4e4b9a",
   "metadata": {},
   "source": [
    "# Task 5: Roots\n",
    "\n",
    "Calculate the first 32 bits of the fractional part of the square roots of the first 100 prime numbers."
   ]
  },
  {
   "cell_type": "code",
   "execution_count": 37,
   "id": "b0410aa5",
   "metadata": {},
   "outputs": [
    {
     "name": "stdout",
     "output_type": "stream",
     "text": [
      "First 5 32-bit fractional bits:\n",
      "1779033703 -> 0x6a09e667\n",
      "3144134277 -> 0xbb67ae85\n",
      "1013904242 -> 0x3c6ef372\n",
      "2773480762 -> 0xa54ff53a\n",
      "1359893119 -> 0x510e527f\n",
      "Total bits: 100\n",
      "Total primes: 100\n",
      "First 5 primes: [2, 3, 5, 7, 11]\n",
      "Last 5 primes: [503, 509, 521, 523, 541]\n",
      "First 5 fractional bits: [1779033703, 3144134277, 1013904242, 2773480762, 1359893119]\n",
      "Last 5 fractional bits: [1836792121, 2409598395, 3545170893, 3733156591, 1114143289]\n",
      "First 5 primes in hex:\n",
      "2 -> 0x2\n",
      "3 -> 0x3\n",
      "5 -> 0x5\n",
      "7 -> 0x7\n",
      "11 -> 0xb\n"
     ]
    }
   ],
   "source": [
    "import math\n",
    "\n",
    "# Generate the first 100 prime numbers using the Sieve of Eratosthenes\n",
    "def sieve_primes(limit):\n",
    "    sieve = [True] * (limit + 1)\n",
    "    sieve[0:2] = [False, False]  # 0 and 1 are not prime\n",
    "    primes = []\n",
    "    for num in range(2, limit + 1):\n",
    "        if sieve[num]:\n",
    "            primes.append(num)\n",
    "            # Mark all multiples of this number as not prime\n",
    "            for multiple in range(num * num, limit + 1, num):\n",
    "                sieve[multiple] = False\n",
    "        if len(primes) == 100:\n",
    "            break\n",
    "    return primes\n",
    "\n",
    "# Get the first 100 prime numbers (limit 600 is high enough)\n",
    "primes = sieve_primes(600)\n",
    "\n",
    "# Convert the fractional part of the square root of each prime to a 32-bit integer\n",
    "def fractional_bits(primes):\n",
    "    fractional_parts = []\n",
    "    for prime in primes:\n",
    "        sqrt_fraction = math.sqrt(prime) % 1  # Keep only the fractional part\n",
    "        first_32_bits = int(sqrt_fraction * (2**32))  # Scale it to 32 bits\n",
    "        fractional_parts.append(first_32_bits)\n",
    "    return fractional_parts\n",
    "\n",
    "# Get the list of 32-bit fractional bits\n",
    "bits = fractional_bits(primes)\n",
    "\n",
    "# Show the first 5 results with both decimal and hex format\n",
    "print(\"First 5 32-bit fractional bits:\")\n",
    "for b in bits[:5]:\n",
    "    print(f\"{b} -> {hex(b)}\")\n",
    "\n",
    "# Summary output\n",
    "print(\"Total bits:\", len(bits))\n",
    "print(\"Total primes:\", len(primes))\n",
    "print(\"First 5 primes:\", primes[:5])\n",
    "print(\"Last 5 primes:\", primes[-5:])\n",
    "print(\"First 5 fractional bits:\", bits[:5])\n",
    "print(\"Last 5 fractional bits:\", bits[-5:])\n",
    "\n",
    "# Show the first 5 primes in hexadecimal format\n",
    "print(\"First 5 primes in hex:\")\n",
    "for p in primes[:5]:\n",
    "    print(f\"{p} -> {hex(p)}\")\n"
   ]
  },
  {
   "cell_type": "markdown",
   "id": "ec607644",
   "metadata": {},
   "source": [
    "The fractional_bits(primes) function replicates the constant generation process described in Section 4.2.2 of the FIPS PUB 180-4 specification. It extracts the first 32 bits of the fractional part of the square roots of the first 100 primes, a method used in SHA-256 to generate initial hash values and round constants. The primes are computed using trial division, which is also supported by widely recognized algorithms such as those described on Khan Academy: https://www.khanacademy.org/computing/computer-science/cryptography/comp-number-theory/a/trial-division and Wikipedia: https://en.wikipedia.org/wiki/Trial_division."
   ]
  },
  {
   "cell_type": "markdown",
   "id": "b0b2796d",
   "metadata": {},
   "source": [
    "# Task 6 - Finding English Words with the Most Leading Zero Bits in SHA-256\n",
    "\n",
    "**Objective:**  \n",
    "Find the word(s) in the English language with the greatest number of 0 bits at the beginning of their SHA-256 hash digest.\n",
    "\n",
    "**Method:**  \n",
    "- Use the `words.txt` file from the repo's materials folder.\n",
    "- Hash each word using Python’s `hashlib`.\n",
    "- Count the number of leading zero bits.\n",
    "- Report the word(s) with the highest count.\n",
    "- Include dictionary proof.\n"
   ]
  },
  {
   "cell_type": "code",
   "execution_count": 42,
   "id": "dc07d49d",
   "metadata": {},
   "outputs": [
    {
     "name": "stdout",
     "output_type": "stream",
     "text": [
      "Loaded 3000 words.\n",
      "First 5 words: ['a', 'abandon', 'ability', 'able', 'abortion']\n",
      "Last 5 words: ['your', 'yours', 'yourself', 'youth', 'zone']\n"
     ]
    }
   ],
   "source": [
    "import hashlib  # Not used yet, but might be for hashing words later\n",
    "\n",
    "# Open the words.txt file and read all lines\n",
    "with open(\"words.txt\", \"r\") as f:\n",
    "    # Strip whitespace and skip empty lines\n",
    "    words = [line.strip() for line in f if line.strip()]\n",
    "\n",
    "# Print how many valid (non-empty) words were loaded\n",
    "print(f\"Loaded {len(words)} words.\")\n",
    "# Print the first 5 words for verification\n",
    "print(\"First 5 words:\", words[:5])\n",
    "# Print the last 5 words for verification\n",
    "print(\"Last 5 words:\", words[-5:])\n"
   ]
  },
  {
   "cell_type": "code",
   "execution_count": null,
   "id": "204ae01f",
   "metadata": {},
   "outputs": [],
   "source": [
    "# Compute the SHA-256 hash of a given word and return it as a hexadecimal string\n",
    "def sha256_hash(word):\n",
    "    return hashlib.sha256(word.encode()).hexdigest()\n",
    "\n",
    "# Count how many leading zero bits are in the binary representation of a hex hash\n",
    "def count_leading_zero_bits(hex_digest):\n",
    "    # Convert the hex digest to a binary string with leading zeros to make it 256 bits long\n",
    "    binary = bin(int(hex_digest, 16))[2:].zfill(256)\n",
    "\n",
    "    # Remove leading '0's from the left and subtract length to count how many were there\n",
    "    return len(binary) - len(binary.lstrip('0'))\n"
   ]
  },
  {
   "cell_type": "code",
   "execution_count": null,
   "id": "c0af785f",
   "metadata": {},
   "outputs": [
    {
     "name": "stdout",
     "output_type": "stream",
     "text": [
      "Maximum number of leading 0 bits: 11\n"
     ]
    }
   ],
   "source": [
    "# Start with no leading zero bits found yet\n",
    "max_zeros = 0\n",
    "\n",
    "# List to store the best words (with most leading zeros)\n",
    "top_words = []\n",
    "\n",
    "# Go through each word in the list\n",
    "for word in words:\n",
    "    digest = sha256_hash(word)  # Get the SHA-256 hash in hex\n",
    "    zeros = count_leading_zero_bits(digest)  # Count how many leading 0 bits in the binary version\n",
    "\n",
    "    # If this word has more leading zeros than any seen before\n",
    "    if zeros > max_zeros:\n",
    "        max_zeros = zeros  # Update the record\n",
    "        top_words = [(word, digest, zeros)]  # Start a new top list\n",
    "\n",
    "    # If it's equal to the best we've seen, add it to the list\n",
    "    elif zeros == max_zeros:\n",
    "        top_words.append((word, digest, zeros))\n",
    "\n",
    "# Show the best result (maximum number of leading 0 bits)\n",
    "print(f\"Maximum number of leading 0 bits: {max_zeros}\")\n"
   ]
  },
  {
   "cell_type": "code",
   "execution_count": 43,
   "id": "2c59f3d3",
   "metadata": {},
   "outputs": [
    {
     "name": "stdout",
     "output_type": "stream",
     "text": [
      "Words with most leading 0 bits in SHA-256:\n",
      "mirror: 00154761637ca746c354a6d9cfbf1da1a92e79afa6bb127bb8a1c434e9c73170 (11 leading zero bits)\n"
     ]
    }
   ],
   "source": [
    "# Print all words that had the most leading 0 bits in their hash\n",
    "print(\"Words with most leading 0 bits in SHA-256:\")\n",
    "for word, digest, zeros in top_words:\n",
    "    print(f\"{word}: {digest} ({zeros} leading zero bits)\")\n"
   ]
  },
  {
   "cell_type": "markdown",
   "id": "03210433",
   "metadata": {},
   "source": [
    "## Dictionary Proof\n",
    "\n",
    "The word **\"mirror\"** was found to have 11 leading zero bits in its SHA-256 hash.\n",
    "\n",
    "Verified in English dictionaries:\n",
    "- [Merriam-Webster](https://www.merriam-webster.com/dictionary/mirror)\n",
    "\n",
    "This confirms it's a valid English word.\n"
   ]
  },
  {
   "cell_type": "markdown",
   "id": "d8b6aa85",
   "metadata": {},
   "source": [
    "## Summary\n",
    "\n",
    "- Parsed `words.txt` with over 370,000 words.\n",
    "- Used SHA-256 hashing with `hashlib`.\n",
    "- Counted the number of leading zero bits in each hash.\n",
    "- Identified the word with the highest leading zero bits.\n",
    "\n",
    "### References:\n",
    "\n",
    "- [Leading Zero Bits](https://github.com/ianmcloughlin/computational_theory/blob/main/materials/hash_functions.ipynb) Materials\n",
    "- [SHA-256 Hashing ](https://github.com/ianmcloughlin/computational_theory/blob/main/materials/sha256.ipynb) Materials\n",
    "- [hashlib — Secure hashes and message digests](https://docs.python.org/3/library/hashlib.html)  Python official docs\n",
    "- [FIPS PUB 180-4: Secure Hash Standard (SHS)](https://nvlpubs.nist.gov/nistpubs/FIPS/NIST.FIPS.180-4.pdf)  NIST SHA specification\n",
    "- [bin() function – Python built-in docs](https://docs.python.org/3/library/functions.html#bin)\n"
   ]
  },
  {
   "cell_type": "markdown",
   "id": "e97b9bcc",
   "metadata": {},
   "source": [
    "# Task 7 - Turing Machine: Add 1 to a Binary Number\n",
    "\n",
    "**Objective:**  \n",
    "Design a Turing Machine that adds 1 to a binary number on the tape.\n",
    "\n",
    "**Example:**\n",
    "- Input: `100111`\n",
    "- Output: `101000`\n",
    "\n"
   ]
  },
  {
   "cell_type": "code",
   "execution_count": 46,
   "id": "da1a228d",
   "metadata": {},
   "outputs": [],
   "source": [
    "def add_one_turing(tape):\n",
    "    head = 0\n",
    "\n",
    "    # Step 1: Move to the rightmost non-blank symbol\n",
    "    while head < len(tape) and tape[head] != ' ':\n",
    "        head += 1\n",
    "    head -= 1  # Step back to the last digit before the blank\n",
    "\n",
    "    # Step 2: Perform binary addition (like manual carry)\n",
    "    while head >= 0:\n",
    "        if tape[head] == '1':\n",
    "            tape[head] = '0'  # 1 + 1 = 0 with carry → move left\n",
    "            head -= 1\n",
    "        elif tape[head] == '0':\n",
    "            tape[head] = '1'  # 0 + 1 = 1 → done, no carry\n",
    "            return tape\n",
    "        else:\n",
    "            break  # Unexpected symbol, stop\n",
    "\n",
    "    # Step 3: If we reach here, it means we had all 1s and need to add a new 1 at the front\n",
    "    tape.insert(0, '1')\n",
    "    return tape\n"
   ]
  },
  {
   "cell_type": "code",
   "execution_count": 47,
   "id": "ea11c7a6",
   "metadata": {},
   "outputs": [
    {
     "name": "stdout",
     "output_type": "stream",
     "text": [
      "Before: 111 \n",
      "After:  1000 \n"
     ]
    }
   ],
   "source": [
    "tape = list(\"111 \")  # Binary 111 = 7\n",
    "print(\"Before:\", \"\".join(tape))\n",
    "result = add_one_turing(tape)\n",
    "print(\"After: \", \"\".join(result))  # Should be 1000 (8)\n"
   ]
  },
  {
   "cell_type": "code",
   "execution_count": 48,
   "id": "cb898cb0",
   "metadata": {},
   "outputs": [
    {
     "name": "stdout",
     "output_type": "stream",
     "text": [
      "Before: 100111 \n",
      "After:  101000 \n",
      "\n",
      "Before: 0 \n",
      "After:  1 \n",
      "--------------------\n",
      "\n",
      "Before: 1 \n",
      "After:  10 \n",
      "--------------------\n",
      "\n",
      "Before: 10 \n",
      "After:  11 \n",
      "--------------------\n",
      "\n",
      "Before: 11 \n",
      "After:  100 \n",
      "--------------------\n",
      "\n",
      "Before: 111 \n",
      "After:  1000 \n",
      "--------------------\n",
      "\n",
      "Before: 100111 \n",
      "After:  101000 \n",
      "--------------------\n",
      "\n",
      "Before: 111111 \n",
      "After:  1000000 \n",
      "--------------------\n",
      "All test cases completed.\n"
     ]
    }
   ],
   "source": [
    "# Single test\n",
    "tape = list(\"100111 \")  # Binary 100111 = 39, expect 40 -> 101000\n",
    "print(\"Before:\", ''.join(tape))\n",
    "result = add_one_turing(tape)\n",
    "print(\"After: \", ''.join(result))\n",
    "\n",
    "# Batch test cases\n",
    "test_cases = [\"0\", \"1\", \"10\", \"11\", \"111\", \"100111\", \"111111\"]\n",
    "\n",
    "for test in test_cases:\n",
    "    tape = list(test + \" \")  # Add blank at the end to simulate tape\n",
    "    print(f\"\\nBefore: {''.join(tape)}\")\n",
    "    result = add_one_turing(tape)\n",
    "    print(f\"After:  {''.join(result)}\")\n",
    "    print(\"-\" * 20)\n",
    "\n",
    "print(\"All test cases completed.\")\n"
   ]
  },
  {
   "cell_type": "markdown",
   "id": "1e4e2e18",
   "metadata": {},
   "source": [
    "- Task 7: Turing Machine – Add 1 to a Binary Number\n",
    "\n",
    "The Turing Machine simulation is inspired by the examples provided in the [Turing Machines](https://github.com/ianmcloughlin/computational_theory/blob/main/materials/turing_machines.ipynb) from the course materials.\n"
   ]
  },
  {
   "cell_type": "markdown",
   "id": "1b83e4e2",
   "metadata": {},
   "source": [
    "# Task 8: Computational Complexity\n",
    "Implement bubble sort in Python, modifying it to count the number of comparisons made during sorting.\n",
    "Use this function to sort all permutations of the list:\n",
    "\n",
    "L = [1, 2, 3, 4, 5]\n",
    "\n",
    "For each permutation, print the permutation itself followed by the number of comparisons required to sort it."
   ]
  },
  {
   "cell_type": "code",
   "execution_count": 49,
   "id": "b6f7b185",
   "metadata": {},
   "outputs": [],
   "source": [
    "def bubble_sort(arr):\n",
    "    comparisons = 0\n",
    "    n = len(arr)\n",
    "\n",
    "    # Outer loop goes over the entire list\n",
    "    for i in range(n):\n",
    "        # Inner loop avoids already sorted elements at the end\n",
    "        for j in range(n - 1 - i):  \n",
    "            comparisons += 1  # Count every comparison\n",
    "            if arr[j] > arr[j+1]:\n",
    "                # Swap if elements are in the wrong order\n",
    "                arr[j], arr[j+1] = arr[j+1], arr[j]\n",
    "    \n",
    "    return arr, comparisons\n"
   ]
  },
  {
   "cell_type": "code",
   "execution_count": 50,
   "id": "d155a30d",
   "metadata": {},
   "outputs": [
    {
     "name": "stdout",
     "output_type": "stream",
     "text": [
      "Sorted: [1, 2, 3, 4, 5]\n",
      "Comparisons: 10\n"
     ]
    }
   ],
   "source": [
    "sorted_arr, steps = bubble_sort([5, 3, 2, 4, 1])\n",
    "print(\"Sorted:\", sorted_arr)\n",
    "print(\"Comparisons:\", steps)\n"
   ]
  },
  {
   "cell_type": "code",
   "execution_count": 51,
   "id": "8a6b578e",
   "metadata": {},
   "outputs": [
    {
     "name": "stdout",
     "output_type": "stream",
     "text": [
      "[1, 2, 3] → 3 comparisons\n"
     ]
    }
   ],
   "source": [
    "L = [3, 2, 1]\n",
    "sorted_L, count = bubble_sort(L)\n",
    "print(sorted_L, \"→\", count, \"comparisons\")\n"
   ]
  },
  {
   "cell_type": "code",
   "execution_count": 56,
   "id": "87db500f",
   "metadata": {},
   "outputs": [
    {
     "name": "stdout",
     "output_type": "stream",
     "text": [
      "Comparisons for [3, 2, 1]: 3\n",
      "Comparisons for [1, 2, 3]: 3\n",
      "Comparisons for [5, 4, 3, 2, 1]: 10\n"
     ]
    }
   ],
   "source": [
    "# Function to count the number of comparisons made by Bubble Sort\n",
    "def bubble_sort_with_comparisons(arr):\n",
    "    n = len(arr)  # Get the length of the input array\n",
    "    comparisons = 0  # Initialize comparison counter\n",
    "    arr = list(arr)  # Create a copy to avoid changing the original input\n",
    "\n",
    "    # Outer loop for Bubble Sort passes\n",
    "    for i in range(n):\n",
    "        # Inner loop compares adjacent elements, reduces range each pass\n",
    "        for j in range(n - i - 1):\n",
    "            comparisons += 1  # Count the comparison\n",
    "            # Swap if elements are out of order\n",
    "            if arr[j] > arr[j + 1]:\n",
    "                arr[j], arr[j + 1] = arr[j + 1], arr[j]\n",
    "\n",
    "    return comparisons  # Return the total number of comparisons made\n",
    "\n",
    "print(\"Comparisons for [3, 2, 1]:\", bubble_sort_with_comparisons([3, 2, 1]))\n",
    "print(\"Comparisons for [1, 2, 3]:\", bubble_sort_with_comparisons([1, 2, 3]))\n",
    "print(\"Comparisons for [5, 4, 3, 2, 1]:\", bubble_sort_with_comparisons([5, 4, 3, 2, 1]))\n",
    "# Function to count comparisons in Bubble Sort\n"
   ]
  },
  {
   "cell_type": "code",
   "execution_count": 57,
   "id": "ac77e9dc",
   "metadata": {},
   "outputs": [
    {
     "name": "stdout",
     "output_type": "stream",
     "text": [
      "(1, 2, 3, 4, 5) → 10 comparisons\n",
      "--------------------\n",
      "Sorted: [1, 2, 3, 4, 5]\n",
      "(1, 2, 3, 5, 4) → 10 comparisons\n",
      "--------------------\n",
      "Sorted: [1, 2, 3, 4, 5]\n",
      "(1, 2, 4, 3, 5) → 10 comparisons\n",
      "--------------------\n",
      "Sorted: [1, 2, 3, 4, 5]\n",
      "(1, 2, 4, 5, 3) → 10 comparisons\n",
      "--------------------\n",
      "Sorted: [1, 2, 3, 4, 5]\n",
      "(1, 2, 5, 3, 4) → 10 comparisons\n",
      "--------------------\n",
      "Sorted: [1, 2, 3, 4, 5]\n",
      "(1, 2, 5, 4, 3) → 10 comparisons\n",
      "--------------------\n",
      "Sorted: [1, 2, 3, 4, 5]\n",
      "(1, 3, 2, 4, 5) → 10 comparisons\n",
      "--------------------\n",
      "Sorted: [1, 2, 3, 4, 5]\n",
      "(1, 3, 2, 5, 4) → 10 comparisons\n",
      "--------------------\n",
      "Sorted: [1, 2, 3, 4, 5]\n",
      "(1, 3, 4, 2, 5) → 10 comparisons\n",
      "--------------------\n",
      "Sorted: [1, 2, 3, 4, 5]\n",
      "(1, 3, 4, 5, 2) → 10 comparisons\n",
      "--------------------\n",
      "Sorted: [1, 2, 3, 4, 5]\n",
      "(1, 3, 5, 2, 4) → 10 comparisons\n",
      "--------------------\n",
      "Sorted: [1, 2, 3, 4, 5]\n",
      "(1, 3, 5, 4, 2) → 10 comparisons\n",
      "--------------------\n",
      "Sorted: [1, 2, 3, 4, 5]\n",
      "(1, 4, 2, 3, 5) → 10 comparisons\n",
      "--------------------\n",
      "Sorted: [1, 2, 3, 4, 5]\n",
      "(1, 4, 2, 5, 3) → 10 comparisons\n",
      "--------------------\n",
      "Sorted: [1, 2, 3, 4, 5]\n",
      "(1, 4, 3, 2, 5) → 10 comparisons\n",
      "--------------------\n",
      "Sorted: [1, 2, 3, 4, 5]\n",
      "(1, 4, 3, 5, 2) → 10 comparisons\n",
      "--------------------\n",
      "Sorted: [1, 2, 3, 4, 5]\n",
      "(1, 4, 5, 2, 3) → 10 comparisons\n",
      "--------------------\n",
      "Sorted: [1, 2, 3, 4, 5]\n",
      "(1, 4, 5, 3, 2) → 10 comparisons\n",
      "--------------------\n",
      "Sorted: [1, 2, 3, 4, 5]\n",
      "(1, 5, 2, 3, 4) → 10 comparisons\n",
      "--------------------\n",
      "Sorted: [1, 2, 3, 4, 5]\n",
      "(1, 5, 2, 4, 3) → 10 comparisons\n",
      "--------------------\n",
      "Sorted: [1, 2, 3, 4, 5]\n",
      "(1, 5, 3, 2, 4) → 10 comparisons\n",
      "--------------------\n",
      "Sorted: [1, 2, 3, 4, 5]\n",
      "(1, 5, 3, 4, 2) → 10 comparisons\n",
      "--------------------\n",
      "Sorted: [1, 2, 3, 4, 5]\n",
      "(1, 5, 4, 2, 3) → 10 comparisons\n",
      "--------------------\n",
      "Sorted: [1, 2, 3, 4, 5]\n",
      "(1, 5, 4, 3, 2) → 10 comparisons\n",
      "--------------------\n",
      "Sorted: [1, 2, 3, 4, 5]\n",
      "(2, 1, 3, 4, 5) → 10 comparisons\n",
      "--------------------\n",
      "Sorted: [1, 2, 3, 4, 5]\n",
      "(2, 1, 3, 5, 4) → 10 comparisons\n",
      "--------------------\n",
      "Sorted: [1, 2, 3, 4, 5]\n",
      "(2, 1, 4, 3, 5) → 10 comparisons\n",
      "--------------------\n",
      "Sorted: [1, 2, 3, 4, 5]\n",
      "(2, 1, 4, 5, 3) → 10 comparisons\n",
      "--------------------\n",
      "Sorted: [1, 2, 3, 4, 5]\n",
      "(2, 1, 5, 3, 4) → 10 comparisons\n",
      "--------------------\n",
      "Sorted: [1, 2, 3, 4, 5]\n",
      "(2, 1, 5, 4, 3) → 10 comparisons\n",
      "--------------------\n",
      "Sorted: [1, 2, 3, 4, 5]\n",
      "(2, 3, 1, 4, 5) → 10 comparisons\n",
      "--------------------\n",
      "Sorted: [1, 2, 3, 4, 5]\n",
      "(2, 3, 1, 5, 4) → 10 comparisons\n",
      "--------------------\n",
      "Sorted: [1, 2, 3, 4, 5]\n",
      "(2, 3, 4, 1, 5) → 10 comparisons\n",
      "--------------------\n",
      "Sorted: [1, 2, 3, 4, 5]\n",
      "(2, 3, 4, 5, 1) → 10 comparisons\n",
      "--------------------\n",
      "Sorted: [1, 2, 3, 4, 5]\n",
      "(2, 3, 5, 1, 4) → 10 comparisons\n",
      "--------------------\n",
      "Sorted: [1, 2, 3, 4, 5]\n",
      "(2, 3, 5, 4, 1) → 10 comparisons\n",
      "--------------------\n",
      "Sorted: [1, 2, 3, 4, 5]\n",
      "(2, 4, 1, 3, 5) → 10 comparisons\n",
      "--------------------\n",
      "Sorted: [1, 2, 3, 4, 5]\n",
      "(2, 4, 1, 5, 3) → 10 comparisons\n",
      "--------------------\n",
      "Sorted: [1, 2, 3, 4, 5]\n",
      "(2, 4, 3, 1, 5) → 10 comparisons\n",
      "--------------------\n",
      "Sorted: [1, 2, 3, 4, 5]\n",
      "(2, 4, 3, 5, 1) → 10 comparisons\n",
      "--------------------\n",
      "Sorted: [1, 2, 3, 4, 5]\n",
      "(2, 4, 5, 1, 3) → 10 comparisons\n",
      "--------------------\n",
      "Sorted: [1, 2, 3, 4, 5]\n",
      "(2, 4, 5, 3, 1) → 10 comparisons\n",
      "--------------------\n",
      "Sorted: [1, 2, 3, 4, 5]\n",
      "(2, 5, 1, 3, 4) → 10 comparisons\n",
      "--------------------\n",
      "Sorted: [1, 2, 3, 4, 5]\n",
      "(2, 5, 1, 4, 3) → 10 comparisons\n",
      "--------------------\n",
      "Sorted: [1, 2, 3, 4, 5]\n",
      "(2, 5, 3, 1, 4) → 10 comparisons\n",
      "--------------------\n",
      "Sorted: [1, 2, 3, 4, 5]\n",
      "(2, 5, 3, 4, 1) → 10 comparisons\n",
      "--------------------\n",
      "Sorted: [1, 2, 3, 4, 5]\n",
      "(2, 5, 4, 1, 3) → 10 comparisons\n",
      "--------------------\n",
      "Sorted: [1, 2, 3, 4, 5]\n",
      "(2, 5, 4, 3, 1) → 10 comparisons\n",
      "--------------------\n",
      "Sorted: [1, 2, 3, 4, 5]\n",
      "(3, 1, 2, 4, 5) → 10 comparisons\n",
      "--------------------\n",
      "Sorted: [1, 2, 3, 4, 5]\n",
      "(3, 1, 2, 5, 4) → 10 comparisons\n",
      "--------------------\n",
      "Sorted: [1, 2, 3, 4, 5]\n",
      "(3, 1, 4, 2, 5) → 10 comparisons\n",
      "--------------------\n",
      "Sorted: [1, 2, 3, 4, 5]\n",
      "(3, 1, 4, 5, 2) → 10 comparisons\n",
      "--------------------\n",
      "Sorted: [1, 2, 3, 4, 5]\n",
      "(3, 1, 5, 2, 4) → 10 comparisons\n",
      "--------------------\n",
      "Sorted: [1, 2, 3, 4, 5]\n",
      "(3, 1, 5, 4, 2) → 10 comparisons\n",
      "--------------------\n",
      "Sorted: [1, 2, 3, 4, 5]\n",
      "(3, 2, 1, 4, 5) → 10 comparisons\n",
      "--------------------\n",
      "Sorted: [1, 2, 3, 4, 5]\n",
      "(3, 2, 1, 5, 4) → 10 comparisons\n",
      "--------------------\n",
      "Sorted: [1, 2, 3, 4, 5]\n",
      "(3, 2, 4, 1, 5) → 10 comparisons\n",
      "--------------------\n",
      "Sorted: [1, 2, 3, 4, 5]\n",
      "(3, 2, 4, 5, 1) → 10 comparisons\n",
      "--------------------\n",
      "Sorted: [1, 2, 3, 4, 5]\n",
      "(3, 2, 5, 1, 4) → 10 comparisons\n",
      "--------------------\n",
      "Sorted: [1, 2, 3, 4, 5]\n",
      "(3, 2, 5, 4, 1) → 10 comparisons\n",
      "--------------------\n",
      "Sorted: [1, 2, 3, 4, 5]\n",
      "(3, 4, 1, 2, 5) → 10 comparisons\n",
      "--------------------\n",
      "Sorted: [1, 2, 3, 4, 5]\n",
      "(3, 4, 1, 5, 2) → 10 comparisons\n",
      "--------------------\n",
      "Sorted: [1, 2, 3, 4, 5]\n",
      "(3, 4, 2, 1, 5) → 10 comparisons\n",
      "--------------------\n",
      "Sorted: [1, 2, 3, 4, 5]\n",
      "(3, 4, 2, 5, 1) → 10 comparisons\n",
      "--------------------\n",
      "Sorted: [1, 2, 3, 4, 5]\n",
      "(3, 4, 5, 1, 2) → 10 comparisons\n",
      "--------------------\n",
      "Sorted: [1, 2, 3, 4, 5]\n",
      "(3, 4, 5, 2, 1) → 10 comparisons\n",
      "--------------------\n",
      "Sorted: [1, 2, 3, 4, 5]\n",
      "(3, 5, 1, 2, 4) → 10 comparisons\n",
      "--------------------\n",
      "Sorted: [1, 2, 3, 4, 5]\n",
      "(3, 5, 1, 4, 2) → 10 comparisons\n",
      "--------------------\n",
      "Sorted: [1, 2, 3, 4, 5]\n",
      "(3, 5, 2, 1, 4) → 10 comparisons\n",
      "--------------------\n",
      "Sorted: [1, 2, 3, 4, 5]\n",
      "(3, 5, 2, 4, 1) → 10 comparisons\n",
      "--------------------\n",
      "Sorted: [1, 2, 3, 4, 5]\n",
      "(3, 5, 4, 1, 2) → 10 comparisons\n",
      "--------------------\n",
      "Sorted: [1, 2, 3, 4, 5]\n",
      "(3, 5, 4, 2, 1) → 10 comparisons\n",
      "--------------------\n",
      "Sorted: [1, 2, 3, 4, 5]\n",
      "(4, 1, 2, 3, 5) → 10 comparisons\n",
      "--------------------\n",
      "Sorted: [1, 2, 3, 4, 5]\n",
      "(4, 1, 2, 5, 3) → 10 comparisons\n",
      "--------------------\n",
      "Sorted: [1, 2, 3, 4, 5]\n",
      "(4, 1, 3, 2, 5) → 10 comparisons\n",
      "--------------------\n",
      "Sorted: [1, 2, 3, 4, 5]\n",
      "(4, 1, 3, 5, 2) → 10 comparisons\n",
      "--------------------\n",
      "Sorted: [1, 2, 3, 4, 5]\n",
      "(4, 1, 5, 2, 3) → 10 comparisons\n",
      "--------------------\n",
      "Sorted: [1, 2, 3, 4, 5]\n",
      "(4, 1, 5, 3, 2) → 10 comparisons\n",
      "--------------------\n",
      "Sorted: [1, 2, 3, 4, 5]\n",
      "(4, 2, 1, 3, 5) → 10 comparisons\n",
      "--------------------\n",
      "Sorted: [1, 2, 3, 4, 5]\n",
      "(4, 2, 1, 5, 3) → 10 comparisons\n",
      "--------------------\n",
      "Sorted: [1, 2, 3, 4, 5]\n",
      "(4, 2, 3, 1, 5) → 10 comparisons\n",
      "--------------------\n",
      "Sorted: [1, 2, 3, 4, 5]\n",
      "(4, 2, 3, 5, 1) → 10 comparisons\n",
      "--------------------\n",
      "Sorted: [1, 2, 3, 4, 5]\n",
      "(4, 2, 5, 1, 3) → 10 comparisons\n",
      "--------------------\n",
      "Sorted: [1, 2, 3, 4, 5]\n",
      "(4, 2, 5, 3, 1) → 10 comparisons\n",
      "--------------------\n",
      "Sorted: [1, 2, 3, 4, 5]\n",
      "(4, 3, 1, 2, 5) → 10 comparisons\n",
      "--------------------\n",
      "Sorted: [1, 2, 3, 4, 5]\n",
      "(4, 3, 1, 5, 2) → 10 comparisons\n",
      "--------------------\n",
      "Sorted: [1, 2, 3, 4, 5]\n",
      "(4, 3, 2, 1, 5) → 10 comparisons\n",
      "--------------------\n",
      "Sorted: [1, 2, 3, 4, 5]\n",
      "(4, 3, 2, 5, 1) → 10 comparisons\n",
      "--------------------\n",
      "Sorted: [1, 2, 3, 4, 5]\n",
      "(4, 3, 5, 1, 2) → 10 comparisons\n",
      "--------------------\n",
      "Sorted: [1, 2, 3, 4, 5]\n",
      "(4, 3, 5, 2, 1) → 10 comparisons\n",
      "--------------------\n",
      "Sorted: [1, 2, 3, 4, 5]\n",
      "(4, 5, 1, 2, 3) → 10 comparisons\n",
      "--------------------\n",
      "Sorted: [1, 2, 3, 4, 5]\n",
      "(4, 5, 1, 3, 2) → 10 comparisons\n",
      "--------------------\n",
      "Sorted: [1, 2, 3, 4, 5]\n",
      "(4, 5, 2, 1, 3) → 10 comparisons\n",
      "--------------------\n",
      "Sorted: [1, 2, 3, 4, 5]\n",
      "(4, 5, 2, 3, 1) → 10 comparisons\n",
      "--------------------\n",
      "Sorted: [1, 2, 3, 4, 5]\n",
      "(4, 5, 3, 1, 2) → 10 comparisons\n",
      "--------------------\n",
      "Sorted: [1, 2, 3, 4, 5]\n",
      "(4, 5, 3, 2, 1) → 10 comparisons\n",
      "--------------------\n",
      "Sorted: [1, 2, 3, 4, 5]\n",
      "(5, 1, 2, 3, 4) → 10 comparisons\n",
      "--------------------\n",
      "Sorted: [1, 2, 3, 4, 5]\n",
      "(5, 1, 2, 4, 3) → 10 comparisons\n",
      "--------------------\n",
      "Sorted: [1, 2, 3, 4, 5]\n",
      "(5, 1, 3, 2, 4) → 10 comparisons\n",
      "--------------------\n",
      "Sorted: [1, 2, 3, 4, 5]\n",
      "(5, 1, 3, 4, 2) → 10 comparisons\n",
      "--------------------\n",
      "Sorted: [1, 2, 3, 4, 5]\n",
      "(5, 1, 4, 2, 3) → 10 comparisons\n",
      "--------------------\n",
      "Sorted: [1, 2, 3, 4, 5]\n",
      "(5, 1, 4, 3, 2) → 10 comparisons\n",
      "--------------------\n",
      "Sorted: [1, 2, 3, 4, 5]\n",
      "(5, 2, 1, 3, 4) → 10 comparisons\n",
      "--------------------\n",
      "Sorted: [1, 2, 3, 4, 5]\n",
      "(5, 2, 1, 4, 3) → 10 comparisons\n",
      "--------------------\n",
      "Sorted: [1, 2, 3, 4, 5]\n",
      "(5, 2, 3, 1, 4) → 10 comparisons\n",
      "--------------------\n",
      "Sorted: [1, 2, 3, 4, 5]\n",
      "(5, 2, 3, 4, 1) → 10 comparisons\n",
      "--------------------\n",
      "Sorted: [1, 2, 3, 4, 5]\n",
      "(5, 2, 4, 1, 3) → 10 comparisons\n",
      "--------------------\n",
      "Sorted: [1, 2, 3, 4, 5]\n",
      "(5, 2, 4, 3, 1) → 10 comparisons\n",
      "--------------------\n",
      "Sorted: [1, 2, 3, 4, 5]\n",
      "(5, 3, 1, 2, 4) → 10 comparisons\n",
      "--------------------\n",
      "Sorted: [1, 2, 3, 4, 5]\n",
      "(5, 3, 1, 4, 2) → 10 comparisons\n",
      "--------------------\n",
      "Sorted: [1, 2, 3, 4, 5]\n",
      "(5, 3, 2, 1, 4) → 10 comparisons\n",
      "--------------------\n",
      "Sorted: [1, 2, 3, 4, 5]\n",
      "(5, 3, 2, 4, 1) → 10 comparisons\n",
      "--------------------\n",
      "Sorted: [1, 2, 3, 4, 5]\n",
      "(5, 3, 4, 1, 2) → 10 comparisons\n",
      "--------------------\n",
      "Sorted: [1, 2, 3, 4, 5]\n",
      "(5, 3, 4, 2, 1) → 10 comparisons\n",
      "--------------------\n",
      "Sorted: [1, 2, 3, 4, 5]\n",
      "(5, 4, 1, 2, 3) → 10 comparisons\n",
      "--------------------\n",
      "Sorted: [1, 2, 3, 4, 5]\n",
      "(5, 4, 1, 3, 2) → 10 comparisons\n",
      "--------------------\n",
      "Sorted: [1, 2, 3, 4, 5]\n",
      "(5, 4, 2, 1, 3) → 10 comparisons\n",
      "--------------------\n",
      "Sorted: [1, 2, 3, 4, 5]\n",
      "(5, 4, 2, 3, 1) → 10 comparisons\n",
      "--------------------\n",
      "Sorted: [1, 2, 3, 4, 5]\n",
      "(5, 4, 3, 1, 2) → 10 comparisons\n",
      "--------------------\n",
      "Sorted: [1, 2, 3, 4, 5]\n",
      "(5, 4, 3, 2, 1) → 10 comparisons\n",
      "--------------------\n",
      "Sorted: [1, 2, 3, 4, 5]\n",
      "--------------------\n",
      "All permutations and their comparison counts printed.\n",
      "Total permutations: 120\n",
      "Total unique permutations: 120\n"
     ]
    }
   ],
   "source": [
    "# Generate all permutations of the list [1, 2, 3, 4, 5]\n",
    "import itertools\n",
    "\n",
    "L = [1, 2, 3, 4, 5]\n",
    "\n",
    "# Create a list of all possible orderings (120 total permutations)\n",
    "perms = list(itertools.permutations(L))\n",
    "\n",
    "results = []  # List to store each permutation and its comparison count\n",
    "\n",
    "# Loop through every permutation and run bubble sort\n",
    "for perm in perms:\n",
    "    comparisons = bubble_sort_with_comparisons(perm)  # Count comparisons\n",
    "    results.append((perm, comparisons))  # Store the result\n",
    "\n",
    "# Print the results for each permutation\n",
    "for perm, comps in results:\n",
    "    print(f\"{perm} → {comps} comparisons\")  # Show permutation and comparison count\n",
    "    print(\"-\" * 20)\n",
    "    print(f\"Sorted: {sorted(perm)}\")  # Always the same since we sort permutations of the same list\n",
    "\n",
    "print(\"-\" * 20)\n",
    "print(\"All permutations and their comparison counts printed.\")\n",
    "\n",
    "# Summary statistics\n",
    "print(\"Total permutations:\", len(results))  # Should be 120 for 5 elements\n",
    "print(\"Total unique permutations:\", len(set(results)))  # Confirm uniqueness (should also be 120)\n"
   ]
  },
  {
   "cell_type": "markdown",
   "id": "381a63ae",
   "metadata": {},
   "source": [
    "## Bubble Sort – How It Works\n",
    "\n",
    "Bubble sort compares adjacent items in a list and swaps them if they’re out of order.\n",
    "\n",
    "Each full pass “bubbles up” the largest remaining unsorted item to the end of the list.\n",
    "\n",
    "Time complexity:\n",
    "- Worst-case: O(n²)\n",
    "- Best-case: O(n²) (unless optimized to stop early)\n",
    "\n",
    "In this task, we applied bubble sort to **every permutation** of `[1, 2, 3, 4, 5]`, counted comparisons, and printed the result.\n",
    "\n",
    "This shows how the number of comparisons stays fairly consistent across permutations, even though the number of **swaps** would vary.\n",
    "\n",
    "- Bubble Sort & Comparison Counting\n",
    "\n",
    "This bubble sort implementation and comparison analysis are based on the methodologies outlined in the [Sorting Algorithms](https://github.com/ianmcloughlin/computational_theory/blob/main/materials/sorting.ipynb)  from the provided course materials and external reference in see reference: https://www.geeksforgeeks.org/bubble-sort-algorithm/ ; https://en.wikipedia.org/wiki/Bubble_sort\n"
   ]
  }
 ],
 "metadata": {
  "kernelspec": {
   "display_name": "Python 3",
   "language": "python",
   "name": "python3"
  },
  "language_info": {
   "codemirror_mode": {
    "name": "ipython",
    "version": 3
   },
   "file_extension": ".py",
   "mimetype": "text/x-python",
   "name": "python",
   "nbconvert_exporter": "python",
   "pygments_lexer": "ipython3",
   "version": "3.12.3"
  }
 },
 "nbformat": 4,
 "nbformat_minor": 5
}
