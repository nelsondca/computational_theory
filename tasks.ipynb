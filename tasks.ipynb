{
 "cells": [
  {
   "cell_type": "markdown",
   "id": "fcb57e47",
   "metadata": {},
   "source": [
    "# Task 1: Binary Representations\n",
    "\n",
    "In this section, It creates some basic bit manipulation functions.\n",
    "Trying to rotate bits to the left\n",
    "\n",
    "References from https://github.com/ianmcloughlin/computational_theory/blob/main/materials/binary_representations.ipynb"
   ]
  },
  {
   "cell_type": "markdown",
   "id": "aa1bffc1",
   "metadata": {},
   "source": [
    "# rotl(x,n=1), rotating left that rotates the bits in a 32-bit unsigned integer to the left n places.\n",
    "\n"
   ]
  },
  {
   "cell_type": "code",
   "execution_count": 13,
   "id": "c6d97b11",
   "metadata": {},
   "outputs": [
    {
     "name": "stdout",
     "output_type": "stream",
     "text": [
      "0b10\n"
     ]
    }
   ],
   "source": [
    "# First try at rotate left... but I missed something\n",
    "\n",
    "def rotl(x, n=1):\n",
    "    return (x << n) | (x >> n)\n",
    "\n",
    "# Testing with a simple number that only has 1 bit on\n",
    "print(bin(rotl(0b00000000000000000000000000000001, 1)))\n"
   ]
  },
  {
   "cell_type": "markdown",
   "id": "7208171f",
   "metadata": {},
   "source": [
    "does not rotate correctly.\n",
    "shifted right by n, but to wrap the bits properly I should shift right by 32 - n. Also, forgot to make sure we stay within 32 bits ."
   ]
  },
  {
   "cell_type": "code",
   "execution_count": null,
   "id": "cba43b4f",
   "metadata": {},
   "outputs": [
    {
     "name": "stdout",
     "output_type": "stream",
     "text": [
      "0b10\n",
      "0b1\n"
     ]
    }
   ],
   "source": [
    "# Fixed it by wrapping the bits properly and keeping the result to 32 bits.\n",
    "# ref on https://github.com/ianmcloughlin/computational_theory/blob/main/materials/binary_representations.ipynb\n",
    "\n",
    "def rotatel(x, n=1):\n",
    "\n",
    "    return ((x << n) | (x >> (32 - n))) & 0xFFFFFFFF\n",
    "\n",
    "# Testing again\n",
    "print(bin(rotatel(0b00000000000000000000000000000001, 1)))  \n",
    "print(bin(rotatel(0x80000000, 1)))  \n"
   ]
  },
  {
   "cell_type": "markdown",
   "id": "551121fa",
   "metadata": {},
   "source": [
    "# rotr (x,n=1) that rotates the bits in a 32-bit unsigned integer to the right n places.\n",
    "\n",
    "\n",
    "\n",
    "\n",
    "\n",
    "this is basically the opposite of the last one.\n",
    "rotating bits to the right, and wrapping it back to the left\n",
    "\n",
    "ref : https://github.com/ianmcloughlin/computational_theory/blob/main/materials/binary_representations.ipynb"
   ]
  },
  {
   "cell_type": "code",
   "execution_count": null,
   "id": "ee1d3e0c",
   "metadata": {},
   "outputs": [
    {
     "name": "stdout",
     "output_type": "stream",
     "text": [
      "0b101\n"
     ]
    }
   ],
   "source": [
    "# First attempt at rotating right – but something feels off\n",
    "\n",
    "def rotater(x, n=1):\n",
    "    return (x >> n) | (x << n)\n",
    "\n",
    "print(bin(rotater(0b00000000000000000000000000000010, 1)))  # expecting 0b1\n"
   ]
  },
  {
   "cell_type": "code",
   "execution_count": 22,
   "id": "378ad550",
   "metadata": {},
   "outputs": [
    {
     "name": "stdout",
     "output_type": "stream",
     "text": [
      "0b1\n",
      "0b10000000000000000000000000000000\n"
     ]
    }
   ],
   "source": [
    "# Fixed it \n",
    "def rotater(x, n=1):\n",
    "   \n",
    "    return ((x >> n) | (x << (32 - n))) & 0xFFFFFFFF\n",
    "\n",
    "print(bin(rotater(0b10, 1)))   \n",
    "print(bin(rotater(0b1, 1)))    \n"
   ]
  },
  {
   "cell_type": "markdown",
   "id": "8163e6ee",
   "metadata": {},
   "source": [
    "\n",
    "the `return ((x >> n) | (x << (32 - n))) & 0xFFFFFFFF` function spins the bits to the right by n steps making sure everything stays within 32 bits  see https://github.com/ianmcloughlin/computational_theory/blob/main/materials/binary_representations.ipynb sections: bitwise shift , bitwise OR , bit masking , integer size"
   ]
  },
  {
   "cell_type": "markdown",
   "id": "b548b46a",
   "metadata": {},
   "source": []
  },
  {
   "cell_type": "markdown",
   "id": "f084f784",
   "metadata": {},
   "source": [
    "## ch ( x, y, z) that chooses the bits from y where x has bits set to 1 and bits in z where x has bits set to 0.\n",
    "\n",
    "This function is like a little decision-maker.  \n",
    "It looks at each bit of `x` — if it’s a 1, it picks the corresponding bit from `y`. If it’s a 0, it picks from `z`."
   ]
  },
  {
   "cell_type": "code",
   "execution_count": 6,
   "id": "6dd833a1",
   "metadata": {},
   "outputs": [
    {
     "name": "stdout",
     "output_type": "stream",
     "text": [
      "0b1010\n",
      "0b1000\n",
      "0b10\n"
     ]
    }
   ],
   "source": [
    "def ch(x, y, z):\n",
    "    return (x & y) | (x & z)\n",
    "\n",
    "print(bin(ch(0b1010, 0b1100, 0b0011))) # expecting 0b1010\n",
    "print(bin(ch(0b1010, 0b1100, 0b0000))) # expecting 0b1000\n",
    "print(bin(ch(0b1010, 0b0000, 0b0011))) # expecting 0b0000\n"
   ]
  },
  {
   "cell_type": "code",
   "execution_count": 7,
   "id": "53b7f7e2",
   "metadata": {},
   "outputs": [
    {
     "name": "stdout",
     "output_type": "stream",
     "text": [
      "0b1001\n",
      "0b1000\n",
      "0b1\n",
      "0b1101\n"
     ]
    }
   ],
   "source": [
    "# \n",
    "def ch(x, y, z):\n",
    "   \n",
    "    return (x & y) ^ (~x & z)\n",
    "\n",
    "print(bin(ch(0b1010, 0b1100, 0b0011)))  # expecting 0b1010\n",
    "print(bin(ch(0b1010, 0b1100, 0b0000)))  # expecting 0b1000\n",
    "print(bin(ch(0b1010, 0b0000, 0b0011)))  # expecting 0b0000\n",
    "print(bin(ch(0b1010, 0b1100, 0b1111)))  # expecting 0b1111"
   ]
  },
  {
   "cell_type": "markdown",
   "id": "9aac553d",
   "metadata": {},
   "source": [
    "The ch(x, y, z) function is based on bitwise operations covered in the Bitwise AND, OR, XOR, and NOT sections see ref: https://github.com/ianmcloughlin/computational_theory/blob/main/materials/binary_representations.ipynb combining them to make a per-bit logic - \"if x then y else z\""
   ]
  },
  {
   "cell_type": "markdown",
   "id": "49a13422",
   "metadata": {},
   "source": [
    "## maj(x, y, z)  which takes a majority vote of the bits in x, y, and z.\n",
    "The output should have a 1 in bit position i where at least two of x, y, and z have 1's in position i.\n",
    "All other output bit positions should be 0.\n",
    "\n",
    "This function is used in hashing algorithms to \"vote\" on each bit.\n",
    "For each bit position `i`, it returns 1 if at least **two** of `x`, `y`, and `z` have a 1 in that position.\n",
    "\n",
    "Example:  \n",
    "- x = 1010  \n",
    "- y = 1111  \n",
    "- z = 0000  \n",
    "→ maj = 1010 (only positions where at least two are 1)\n"
   ]
  },
  {
   "cell_type": "code",
   "execution_count": null,
   "id": "50addb01",
   "metadata": {},
   "outputs": [
    {
     "name": "stdout",
     "output_type": "stream",
     "text": [
      "0b1111\n"
     ]
    }
   ],
   "source": [
    "def maj(x, y, z): # majority function\n",
    "    \n",
    "    return x | y | z \n",
    "\n",
    "# Testing \n",
    "print(bin(maj(0b1010, 0b1100, 0b0011))) \n"
   ]
  },
  {
   "cell_type": "code",
   "execution_count": null,
   "id": "5ceaf649",
   "metadata": {},
   "outputs": [
    {
     "name": "stdout",
     "output_type": "stream",
     "text": [
      "x: 10101010\n",
      "y: 11110000\n",
      "z: 00001111\n",
      "maj: 10101010\n"
     ]
    }
   ],
   "source": [
    "def maj(x, y, z):\n",
    "    # Majority function: returns 1 if two or more of the bits are 1\n",
    "    # and 0 otherwise.\n",
    "    return (x & y) ^ (x & z) ^ (y & z) \n",
    "\n",
    "# Testing a few values:\n",
    "x = 0b10101010 \n",
    "y = 0b11110000\n",
    "z = 0b00001111\n",
    "\n",
    "print(\"x:\", format(x, '08b')) \n",
    "print(\"y:\", format(y, '08b'))\n",
    "print(\"z:\", format(z, '08b'))\n",
    "print(\"maj:\", format(maj(x, y, z), '08b'))\n"
   ]
  },
  {
   "cell_type": "markdown",
   "id": "d1b4b078",
   "metadata": {},
   "source": [
    "### How the maj(x, y, z) logic works\n",
    "\n",
    "The formula `(x & y) ^ (x & z) ^ (y & z)` works because it captures all the cases where **two or more** inputs have a 1.\n",
    "\n",
    "\n",
    "- `x & y` → 1 only if both x and y have 1\n",
    "- `x & z` → 1 if x and z do\n",
    "- `y & z` → 1 if y and z do\n",
    "Then XOR-ing all three gives us 1 in any position where **at least two** inputs have 1s.\n",
    "\n",
    "results based on Bitwise (&) and XOR referenced in https://github.com/ianmcloughlin/computational_theory/blob/main/materials/binary_representations.ipynb \n",
    "\n",
    "- bitwise AND : talks how xx & y returns 1 only when both bits are 1.\n",
    "- bitwise XOR : usefull when combining partial matches lin ( x & y ) ^ ( x & z) ^ (y & z).\n"
   ]
  },
  {
   "cell_type": "markdown",
   "id": "1e428abc",
   "metadata": {},
   "source": [
    "# Task 2: Hash Functions\n",
    "\n",
    "translation of a hash function from C into Python.\n",
    "\n"
   ]
  },
  {
   "cell_type": "code",
   "execution_count": 2,
   "id": "31a88c4f",
   "metadata": {},
   "outputs": [
    {
     "ename": "SyntaxError",
     "evalue": "invalid syntax (2215498579.py, line 1)",
     "output_type": "error",
     "traceback": [
      "\u001b[1;36m  Cell \u001b[1;32mIn[2], line 1\u001b[1;36m\u001b[0m\n\u001b[1;33m    unsigned hash(char *s) {\u001b[0m\n\u001b[1;37m             ^\u001b[0m\n\u001b[1;31mSyntaxError\u001b[0m\u001b[1;31m:\u001b[0m invalid syntax\n"
     ]
    }
   ],
   "source": [
    "unsigned hash(char *s) {\n",
    "    unsigned hashval;\n",
    "    for (hashval = 0; *s != '\\0'; s++)\n",
    "        hashval = *s + 31 * hashval;\n",
    "    return hashval % 101;\n",
    "}\n"
   ]
  },
  {
   "cell_type": "markdown",
   "id": "03081383",
   "metadata": {},
   "source": [
    "the goals is to \n",
    "- Convert the function to Python.\n",
    "\n",
    "- Test it with a few strings.\n",
    "\n",
    "- Explain why 31 and 101 are used.\n",
    "\n",
    "- Include mistake version first, then correct version.\n",
    "\n",
    "- Add natural markdown, comments, and commits."
   ]
  },
  {
   "cell_type": "code",
   "execution_count": 13,
   "id": "4ebf4981",
   "metadata": {},
   "outputs": [
    {
     "ename": "TypeError",
     "evalue": "ord() expected a character, but string of length 5 found",
     "output_type": "error",
     "traceback": [
      "\u001b[1;31m---------------------------------------------------------------------------\u001b[0m",
      "\u001b[1;31mTypeError\u001b[0m                                 Traceback (most recent call last)",
      "Cell \u001b[1;32mIn[13], line 8\u001b[0m\n\u001b[0;32m      6\u001b[0m     \u001b[38;5;28;01mreturn\u001b[39;00m hashval \u001b[38;5;241m%\u001b[39m \u001b[38;5;241m101\u001b[39m \u001b[38;5;66;03m# Return the hash value modulo 101 to keep it within a reasonable range\u001b[39;00m\n\u001b[0;32m      7\u001b[0m \u001b[38;5;66;03m# Testing the simple_hash function\u001b[39;00m\n\u001b[1;32m----> 8\u001b[0m \u001b[38;5;28mprint\u001b[39m(unsigned_hash(\u001b[38;5;124m\"\u001b[39m\u001b[38;5;124mhello\u001b[39m\u001b[38;5;124m\"\u001b[39m))\n",
      "Cell \u001b[1;32mIn[13], line 5\u001b[0m, in \u001b[0;36munsigned_hash\u001b[1;34m(s)\u001b[0m\n\u001b[0;32m      3\u001b[0m hashval \u001b[38;5;241m=\u001b[39m \u001b[38;5;241m0\u001b[39m \u001b[38;5;66;03m# Initialize hash value to 0    \u001b[39;00m\n\u001b[0;32m      4\u001b[0m \u001b[38;5;28;01mfor\u001b[39;00m char \u001b[38;5;129;01min\u001b[39;00m s: \u001b[38;5;66;03m# Iterate over each character in the string\u001b[39;00m\n\u001b[1;32m----> 5\u001b[0m     hashval \u001b[38;5;241m=\u001b[39m hashval \u001b[38;5;241m*\u001b[39m \u001b[38;5;241m31\u001b[39m \u001b[38;5;241m+\u001b[39m \u001b[38;5;28mord\u001b[39m(s) \u001b[38;5;66;03m# Update hash value using the character's ASCII value\u001b[39;00m\n\u001b[0;32m      6\u001b[0m \u001b[38;5;28;01mreturn\u001b[39;00m hashval \u001b[38;5;241m%\u001b[39m \u001b[38;5;241m101\u001b[39m\n",
      "\u001b[1;31mTypeError\u001b[0m: ord() expected a character, but string of length 5 found"
     ]
    }
   ],
   "source": [
    "def unsigned_hash(s):\n",
    "    # Simple hash function that takes a string and returns a hash value.\n",
    "    hashval = 0 # Initialize hash value to 0    \n",
    "    for char in s: # Iterate over each character in the string\n",
    "        hashval = hashval * 31 + ord(s) # Update hash value using the character's ASCII value\n",
    "    return hashval % 101 # Return the hash value modulo 101 to keep it within a reasonable range\n",
    "# Testing the simple_hash function\n",
    "print(unsigned_hash(\"hello\"))  \n"
   ]
  },
  {
   "cell_type": "markdown",
   "id": "30bea2b5",
   "metadata": {},
   "source": []
  },
  {
   "cell_type": "code",
   "execution_count": 14,
   "id": "096de77c",
   "metadata": {},
   "outputs": [
    {
     "name": "stdout",
     "output_type": "stream",
     "text": [
      "Hash of 'hello': 17\n",
      "Hash of 'abc': 0\n",
      "Hash of 'hashing': 25\n",
      "Hash of 'function': 100\n",
      "Hash of 'test': 86\n",
      "Hash of 'example': 28\n",
      "Hash of 'data': 55\n"
     ]
    }
   ],
   "source": [
    "def unsigned_hash(s):\n",
    "    \n",
    "    hashval = 0 # Initialize hash value to 0\n",
    "    for char in s: # Iterate over each character in the string \n",
    "        hashval = ord(char) + 31 * hashval # Update hash value using the character's ASCII value\n",
    "    return hashval % 101 # Return the hash value modulo 101 to keep it within a reasonable range\n",
    "\n",
    "# Testing the simple_hash function with various strings\n",
    "print(\"Hash of 'hello':\", unsigned_hash(\"hello\"))\n",
    "print(\"Hash of 'abc':\", unsigned_hash(\"abc\"))\n",
    "print(\"Hash of 'hashing':\", unsigned_hash(\"hashing\"))\n",
    "print(\"Hash of 'function':\", unsigned_hash(\"function\"))\n",
    "print(\"Hash of 'test':\", unsigned_hash(\"test\"))\n",
    "print(\"Hash of 'example':\", unsigned_hash(\"example\"))\n",
    "print(\"Hash of 'data':\", unsigned_hash(\"data\"))\n"
   ]
  },
  {
   "cell_type": "markdown",
   "id": "ca35469e",
   "metadata": {},
   "source": [
    "## Conluding"
   ]
  },
  {
   "cell_type": "markdown",
   "id": "a594f303",
   "metadata": {},
   "source": [
    "## Why 31 and 101?\n",
    "\n",
    "The unsigned_hash(s) function uses the logic described in see reference: https://github.com/ianmcloughlin/computational_theory/blob/main/materials/prime_numbers.ipynb \n",
    "- it multiplies by 31 (a small prime that can be computed efficiently using bit shifting) and uses modulo 101 (another prime) to keep the hash within a fixed range. The use of bitwise shift (<<) as a fast multiplication method see reference : https://github.com/ianmcloughlin/computational_theory/blob/main/materials/binary_representations.ipynb"
   ]
  },
  {
   "cell_type": "markdown",
   "id": "c84b8373",
   "metadata": {},
   "source": [
    "# Task 3: SHA256 \n",
    "\n",
    "Write a Python function that calculates the SHA256 padding for a given file.\n",
    "\n",
    "- The function should take a file path as input.\n",
    "- It should print, in hex, the padding that would be applied to it.\n",
    "- The specification states that the following should be appended to a message:\n",
    "\n",
    "- a 1 bit;\n",
    "- enough 0 bits so the length in bits of padded message is the smallest possible multiple of 512;\n",
    "- the length in bits of the original input as a big-endian 64-bit unsigned integer.\n",
    "\n",
    "The example in the specification is a file containing the three bytes abc:\n",
    "\n",
    "01100001 01100010 01100011\n",
    "\n",
    "The output would be:\n",
    "\n",
    "80 00 00 00 00 00 00 00 00 00 00 00 00 00 00 00 00 00 00 00 00 00 00 00 00 00\n",
    "00 00 00 00 00 00 00 00 00 00 00 00 00 00 00 00 00 00 00 00 00 00 00 00 00 00\n",
    "00 00 00 00 00 00 00 00 18\n"
   ]
  },
  {
   "cell_type": "code",
   "execution_count": 107,
   "id": "a0a6a5d8",
   "metadata": {},
   "outputs": [],
   "source": [
    "def sha256_padding(file_path):\n",
    "    with open(file_path, \"rb\") as f:\n",
    "        data = f.read()\n",
    "\n",
    "    bit_len = len(data) * 8\n",
    "    padding = b'\\x80'\n",
    "\n",
    "    \n",
    "    while (len(data) + len(padding) + 8) % 512 != 0:\n",
    "        padding += b'\\x00'\n",
    "\n",
    "    bit_len_bytes = bit_len.to_bytes(8, 'big')\n",
    "    padded = data + padding + bit_len_bytes\n",
    "\n",
    "    print(\"Padded message (hex):\", padded.hex())\n"
   ]
  },
  {
   "cell_type": "code",
   "execution_count": 139,
   "id": "9ba02a3c",
   "metadata": {},
   "outputs": [],
   "source": [
    "def sha256_padding(file_path):\n",
    "\n",
    "    with open(file_path, \"rb\") as f:\n",
    "        data = f.read()\n",
    "\n",
    "    bit_len = len(data) * 8  # total message length in bits\n",
    "    padding = b'\\x80'        # first padding byte: 10000000\n",
    "\n",
    "    # Add 0x00 bytes until length ≡ 56 mod 64\n",
    "    while (len(data) + len(padding) + 8) % 64 != 0:\n",
    "        padding += b'\\x00'\n",
    "\n",
    "    # 64-bit big-endian length\n",
    "    bit_len_bytes = bit_len.to_bytes(8, 'big')\n",
    "\n",
    "    padded_msg = data + padding + bit_len_bytes\n",
    "    full_padding = padding + bit_len_bytes\n",
    "\n",
    "    print(\"Original data (hex):\", data.hex())\n",
    "    print(\"Padding (hex):\", padding.hex())\n",
    "    print(\"Length bytes (hex):\", bit_len_bytes.hex())\n",
    "    print(\"Full padded message (hex):\", padded_msg.hex())\n",
    "    print(\"Padded message length (bytes):\", len(padded_msg))\n",
    "    print(\"Padded message length (bits):\", len(padded_msg) * 8)\n",
    "    print(\"\\nPadding Output:\")\n",
    "    print(\" \".join(f\"{byte:02x}\" for byte in full_padding))\n",
    "\n"
   ]
  },
  {
   "cell_type": "code",
   "execution_count": 140,
   "id": "e6627671",
   "metadata": {},
   "outputs": [
    {
     "name": "stdout",
     "output_type": "stream",
     "text": [
      "Original data (hex): 616263\n",
      "Padding (hex): 8000000000000000000000000000000000000000000000000000000000000000000000000000000000000000000000000000000000\n",
      "Length bytes (hex): 0000000000000018\n",
      "Full padded message (hex): 61626380000000000000000000000000000000000000000000000000000000000000000000000000000000000000000000000000000000000000000000000018\n",
      "Padded message length (bytes): 64\n",
      "Padded message length (bits): 512\n",
      "\n",
      "Padding Output:\n",
      "80 00 00 00 00 00 00 00 00 00 00 00 00 00 00 00 00 00 00 00 00 00 00 00 00 00 00 00 00 00 00 00 00 00 00 00 00 00 00 00 00 00 00 00 00 00 00 00 00 00 00 00 00 00 00 00 00 00 00 00 18\n"
     ]
    }
   ],
   "source": [
    "sha256_padding(\"abc.txt\")\n"
   ]
  },
  {
   "cell_type": "markdown",
   "id": "fcf6934e",
   "metadata": {},
   "source": [
    "The sha256_padding() function implements the SHA-256 message padding procedure mentioned in Motivation under Binary Representations (FIPS PUB 180-4 see reference: https://github.com/ianmcloughlin/computational_theory/blob/main/materials/binary_representations.ipynb) . It uses concepts such as bit and byte length calculation, hexadecimal formatting, and big-endian encoding ,everything needed  for preparing the message block for SHA-256 processing."
   ]
  },
  {
   "cell_type": "markdown",
   "id": "7099571d",
   "metadata": {},
   "source": [
    "# Task 4: Prime Numbers\n",
    "\n",
    "Calculate the first 100 prime numbers using two different algorithms.\n",
    "Any algorithms that are well-established and works correctly are okay to use.\n",
    "Explain how the algorithms work."
   ]
  },
  {
   "cell_type": "code",
   "execution_count": null,
   "id": "b86f6617",
   "metadata": {},
   "outputs": [
    {
     "name": "stdout",
     "output_type": "stream",
     "text": [
      "True\n",
      "False\n",
      "False\n",
      "[2, 3, 5, 7, 11, 13, 17, 19, 23, 29, 31, 37, 41, 43, 47, 53, 59, 61, 67, 71, 73, 79, 83, 89, 97, 101, 103, 107, 109, 113, 127, 131, 137, 139, 149, 151, 157, 163, 167, 173, 179, 181, 191, 193, 197, 199, 211, 223, 227, 229, 233, 239, 241, 251, 257, 263, 269, 271, 277, 281, 283, 293, 307, 311, 313, 317, 331, 337, 347, 349, 353, 359, 367, 373, 379, 383, 389, 397, 401, 409, 419, 421, 431, 433, 439, 443, 449, 457, 461, 463, 467, 479, 487, 491, 499, 503, 509, 521, 523, 541, 547]\n"
     ]
    }
   ],
   "source": [
    "def is_prime(n):\n",
    "    if n <= 1:\n",
    "        return False\n",
    "    for i in range(2, n):  \n",
    "        if n % i == 0:\n",
    "            return False\n",
    "    return True\n",
    "\n",
    "print(is_prime(2))\n",
    "print(is_prime(1))\n",
    "print(is_prime(0))\n",
    "\n",
    "def first_100_primes_trial():\n",
    "    primes = []\n",
    "    num = 0  # starts from 0\n",
    "    while len(primes) <= 100:\n",
    "        if is_prime(num):\n",
    "            primes.append(num)\n",
    "        num += 1\n",
    "    return primes\n",
    "\n",
    "print(first_100_primes_trial())\n"
   ]
  }
 ],
 "metadata": {
  "kernelspec": {
   "display_name": "Python 3",
   "language": "python",
   "name": "python3"
  },
  "language_info": {
   "codemirror_mode": {
    "name": "ipython",
    "version": 3
   },
   "file_extension": ".py",
   "mimetype": "text/x-python",
   "name": "python",
   "nbconvert_exporter": "python",
   "pygments_lexer": "ipython3",
   "version": "3.12.3"
  }
 },
 "nbformat": 4,
 "nbformat_minor": 5
}
