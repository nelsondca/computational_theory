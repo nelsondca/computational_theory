{
 "cells": [
  {
   "cell_type": "markdown",
   "id": "fcb57e47",
   "metadata": {},
   "source": [
    "# Task 1: Binary Representations\n",
    "\n",
    "In this section, It creates some basic bit manipulation functions.\n",
    "These are really useful in things like cryptography where you often need to shift or rotate bits.\n",
    "\n",
    "Trying to rotate bits to the left"
   ]
  },
  {
   "cell_type": "code",
   "execution_count": 8,
   "id": "cba43b4f",
   "metadata": {},
   "outputs": [
    {
     "name": "stdout",
     "output_type": "stream",
     "text": [
      "0b10\n",
      "0b1\n"
     ]
    }
   ],
   "source": [
    "def rotl(x, n=1):\n",
    "    ## Rotate left (circular left shift) a 32-bit integer x by n bits.\n",
    "    # The function takes an integer x and a number of bits n, and returns the result of rotating x to the left by n bits.\n",
    "    return ((x << n) | (x >> (32 - n))) & 0xFFFFFFFF\n",
    "\n",
    "# Example\n",
    "print(bin(rotl(0b0001, 1)))  \n",
    "print(bin(rotl(0b10000000000000000000000000000000, 1)))  \n"
   ]
  },
  {
   "cell_type": "code",
   "execution_count": null,
   "id": "6577ec9a",
   "metadata": {},
   "outputs": [
    {
     "name": "stdout",
     "output_type": "stream",
     "text": [
      "0b1010\n"
     ]
    }
   ],
   "source": [
    "def ch(x, y, z):\n",
    "    return (x & y) | (x & z)\n",
    "\n",
    "print(bin(ch(0b1010, 0b1100, 0b0011)))\n"
   ]
  },
  {
   "cell_type": "code",
   "execution_count": null,
   "id": "c520017b",
   "metadata": {},
   "outputs": [
    {
     "name": "stdout",
     "output_type": "stream",
     "text": [
      "0b1001\n"
     ]
    }
   ],
   "source": [
    "def ch(x, y, z):\n",
    "    \n",
    "    return (x & y) ^ (~x & z)\n",
    "\n",
    "print(bin(ch(0b1010, 0b1100, 0b0011)))\n"
   ]
  }
 ],
 "metadata": {
  "kernelspec": {
   "display_name": "Python 3",
   "language": "python",
   "name": "python3"
  },
  "language_info": {
   "codemirror_mode": {
    "name": "ipython",
    "version": 3
   },
   "file_extension": ".py",
   "mimetype": "text/x-python",
   "name": "python",
   "nbconvert_exporter": "python",
   "pygments_lexer": "ipython3",
   "version": "3.12.3"
  }
 },
 "nbformat": 4,
 "nbformat_minor": 5
}
