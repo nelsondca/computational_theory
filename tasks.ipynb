{
 "cells": [
  {
   "cell_type": "markdown",
   "id": "fcb57e47",
   "metadata": {},
   "source": [
    "# Task 1: Binary Representations\n",
    "\n",
    "In this section, It creates some basic bit manipulation functions.\n",
    "Trying to rotate bits to the left\n",
    "\n",
    "References from https://github.com/ianmcloughlin/computational_theory/blob/main/materials/binary_representations.ipynb"
   ]
  },
  {
   "cell_type": "markdown",
   "id": "aa1bffc1",
   "metadata": {},
   "source": [
    "# rotl(x,n=1), rotating left that rotates the bits in a 32-bit unsigned integer to the left n places.\n",
    "\n"
   ]
  },
  {
   "cell_type": "code",
   "execution_count": 13,
   "id": "c6d97b11",
   "metadata": {},
   "outputs": [
    {
     "name": "stdout",
     "output_type": "stream",
     "text": [
      "0b10\n"
     ]
    }
   ],
   "source": [
    "# First try at rotate left... but I missed something\n",
    "\n",
    "def rotl(x, n=1):\n",
    "    return (x << n) | (x >> n)\n",
    "\n",
    "# Testing with a simple number that only has 1 bit on\n",
    "print(bin(rotl(0b00000000000000000000000000000001, 1)))\n"
   ]
  },
  {
   "cell_type": "markdown",
   "id": "7208171f",
   "metadata": {},
   "source": [
    "does not rotate correctly.\n",
    "shifted right by n, but to wrap the bits properly I should shift right by 32 - n. Also, forgot to make sure we stay within 32 bits ."
   ]
  },
  {
   "cell_type": "code",
   "execution_count": null,
   "id": "cba43b4f",
   "metadata": {},
   "outputs": [
    {
     "name": "stdout",
     "output_type": "stream",
     "text": [
      "0b10\n",
      "0b1\n"
     ]
    }
   ],
   "source": [
    "# Fixed it by wrapping the bits properly and keeping the result to 32 bits.\n",
    "# ref on https://github.com/ianmcloughlin/computational_theory/blob/main/materials/binary_representations.ipynb\n",
    "\n",
    "def rotatel(x, n=1):\n",
    "\n",
    "    return ((x << n) | (x >> (32 - n))) & 0xFFFFFFFF\n",
    "\n",
    "# Testing again\n",
    "print(bin(rotatel(0b00000000000000000000000000000001, 1)))  \n",
    "print(bin(rotatel(0x80000000, 1)))  \n"
   ]
  },
  {
   "cell_type": "markdown",
   "id": "551121fa",
   "metadata": {},
   "source": [
    "# rotr (x,n=1) that rotates the bits in a 32-bit unsigned integer to the right n places.\n",
    "\n",
    "\n",
    "\n",
    "\n",
    "\n",
    "this is basically the opposite of the last one.\n",
    "rotating bits to the right, and wrapping it back to the left\n",
    "\n",
    "ref : https://github.com/ianmcloughlin/computational_theory/blob/main/materials/binary_representations.ipynb"
   ]
  },
  {
   "cell_type": "code",
   "execution_count": null,
   "id": "ee1d3e0c",
   "metadata": {},
   "outputs": [
    {
     "name": "stdout",
     "output_type": "stream",
     "text": [
      "0b101\n"
     ]
    }
   ],
   "source": [
    "# First attempt at rotating right – but something feels off\n",
    "\n",
    "def rotater(x, n=1):\n",
    "    return (x >> n) | (x << n)\n",
    "\n",
    "print(bin(rotater(0b00000000000000000000000000000010, 1)))  # expecting 0b1\n"
   ]
  },
  {
   "cell_type": "code",
   "execution_count": 22,
   "id": "378ad550",
   "metadata": {},
   "outputs": [
    {
     "name": "stdout",
     "output_type": "stream",
     "text": [
      "0b1\n",
      "0b10000000000000000000000000000000\n"
     ]
    }
   ],
   "source": [
    "# Fixed it \n",
    "def rotater(x, n=1):\n",
    "   \n",
    "    return ((x >> n) | (x << (32 - n))) & 0xFFFFFFFF\n",
    "\n",
    "print(bin(rotater(0b10, 1)))   \n",
    "print(bin(rotater(0b1, 1)))    \n"
   ]
  },
  {
   "cell_type": "markdown",
   "id": "8163e6ee",
   "metadata": {},
   "source": [
    "\n",
    "the `return ((x >> n) | (x << (32 - n))) & 0xFFFFFFFF` function spins the bits to the right by n steps making sure everything stays within 32 bits  see https://github.com/ianmcloughlin/computational_theory/blob/main/materials/binary_representations.ipynb sections: bitwise shift , bitwise OR , bit masking , integer size"
   ]
  },
  {
   "cell_type": "markdown",
   "id": "b548b46a",
   "metadata": {},
   "source": []
  },
  {
   "cell_type": "markdown",
   "id": "f084f784",
   "metadata": {},
   "source": [
    "## ch ( x, y, z) that chooses the bits from y where x has bits set to 1 and bits in z where x has bits set to 0.\n",
    "\n",
    "This function is like a little decision-maker.  \n",
    "It looks at each bit of `x` — if it’s a 1, it picks the corresponding bit from `y`. If it’s a 0, it picks from `z`."
   ]
  },
  {
   "cell_type": "code",
   "execution_count": 6,
   "id": "6dd833a1",
   "metadata": {},
   "outputs": [
    {
     "name": "stdout",
     "output_type": "stream",
     "text": [
      "0b1010\n",
      "0b1000\n",
      "0b10\n"
     ]
    }
   ],
   "source": [
    "def ch(x, y, z):\n",
    "    return (x & y) | (x & z)\n",
    "\n",
    "print(bin(ch(0b1010, 0b1100, 0b0011))) # expecting 0b1010\n",
    "print(bin(ch(0b1010, 0b1100, 0b0000))) # expecting 0b1000\n",
    "print(bin(ch(0b1010, 0b0000, 0b0011))) # expecting 0b0000\n"
   ]
  },
  {
   "cell_type": "code",
   "execution_count": 7,
   "id": "53b7f7e2",
   "metadata": {},
   "outputs": [
    {
     "name": "stdout",
     "output_type": "stream",
     "text": [
      "0b1001\n",
      "0b1000\n",
      "0b1\n",
      "0b1101\n"
     ]
    }
   ],
   "source": [
    "# \n",
    "def ch(x, y, z):\n",
    "   \n",
    "    return (x & y) ^ (~x & z)\n",
    "\n",
    "print(bin(ch(0b1010, 0b1100, 0b0011)))  # expecting 0b1010\n",
    "print(bin(ch(0b1010, 0b1100, 0b0000)))  # expecting 0b1000\n",
    "print(bin(ch(0b1010, 0b0000, 0b0011)))  # expecting 0b0000\n",
    "print(bin(ch(0b1010, 0b1100, 0b1111)))  # expecting 0b1111"
   ]
  },
  {
   "cell_type": "markdown",
   "id": "9aac553d",
   "metadata": {},
   "source": [
    "The ch(x, y, z) function is based on bitwise operations covered in the Bitwise AND, OR, XOR, and NOT sections see ref: https://github.com/ianmcloughlin/computational_theory/blob/main/materials/binary_representations.ipynb combining them to make a per-bit logic - \"if x then y else z\""
   ]
  },
  {
   "cell_type": "markdown",
   "id": "49a13422",
   "metadata": {},
   "source": [
    "## maj(x, y, z)  which takes a majority vote of the bits in x, y, and z.\n",
    "The output should have a 1 in bit position i where at least two of x, y, and z have 1's in position i.\n",
    "All other output bit positions should be 0.\n",
    "\n",
    "This function is used in hashing algorithms to \"vote\" on each bit.\n",
    "For each bit position `i`, it returns 1 if at least **two** of `x`, `y`, and `z` have a 1 in that position.\n",
    "\n",
    "Example:  \n",
    "- x = 1010  \n",
    "- y = 1111  \n",
    "- z = 0000  \n",
    "→ maj = 1010 (only positions where at least two are 1)\n"
   ]
  },
  {
   "cell_type": "code",
   "execution_count": null,
   "id": "50addb01",
   "metadata": {},
   "outputs": [
    {
     "name": "stdout",
     "output_type": "stream",
     "text": [
      "0b1111\n"
     ]
    }
   ],
   "source": [
    "def maj(x, y, z): # majority function\n",
    "    \n",
    "    return x | y | z \n",
    "\n",
    "# Testing \n",
    "print(bin(maj(0b1010, 0b1100, 0b0011))) \n"
   ]
  },
  {
   "cell_type": "code",
   "execution_count": null,
   "id": "5ceaf649",
   "metadata": {},
   "outputs": [
    {
     "name": "stdout",
     "output_type": "stream",
     "text": [
      "x: 10101010\n",
      "y: 11110000\n",
      "z: 00001111\n",
      "maj: 10101010\n"
     ]
    }
   ],
   "source": [
    "def maj(x, y, z):\n",
    "    # Majority function: returns 1 if two or more of the bits are 1\n",
    "    # and 0 otherwise.\n",
    "    return (x & y) ^ (x & z) ^ (y & z) \n",
    "\n",
    "# Testing a few values:\n",
    "x = 0b10101010 \n",
    "y = 0b11110000\n",
    "z = 0b00001111\n",
    "\n",
    "print(\"x:\", format(x, '08b')) \n",
    "print(\"y:\", format(y, '08b'))\n",
    "print(\"z:\", format(z, '08b'))\n",
    "print(\"maj:\", format(maj(x, y, z), '08b'))\n"
   ]
  },
  {
   "cell_type": "markdown",
   "id": "d1b4b078",
   "metadata": {},
   "source": [
    "### How the maj(x, y, z) logic works\n",
    "\n",
    "The formula `(x & y) ^ (x & z) ^ (y & z)` works because it captures all the cases where **two or more** inputs have a 1.\n",
    "\n",
    "\n",
    "- `x & y` → 1 only if both x and y have 1\n",
    "- `x & z` → 1 if x and z do\n",
    "- `y & z` → 1 if y and z do\n",
    "Then XOR-ing all three gives us 1 in any position where **at least two** inputs have 1s.\n",
    "\n",
    "results based on Bitwise (&) and XOR referenced in https://github.com/ianmcloughlin/computational_theory/blob/main/materials/binary_representations.ipynb \n",
    "\n",
    "- bitwise AND : talks how xx & y returns 1 only when both bits are 1.\n",
    "- bitwise XOR : usefull when combining partial matches lin ( x & y ) ^ ( x & z) ^ (y & z).\n"
   ]
  },
  {
   "cell_type": "markdown",
   "id": "1e428abc",
   "metadata": {},
   "source": [
    "# Task 2: Hash Functions\n",
    "\n",
    "translation of a hash function from C into Python.\n",
    "\n"
   ]
  },
  {
   "cell_type": "code",
   "execution_count": 2,
   "id": "31a88c4f",
   "metadata": {},
   "outputs": [
    {
     "ename": "SyntaxError",
     "evalue": "invalid syntax (2215498579.py, line 1)",
     "output_type": "error",
     "traceback": [
      "\u001b[1;36m  Cell \u001b[1;32mIn[2], line 1\u001b[1;36m\u001b[0m\n\u001b[1;33m    unsigned hash(char *s) {\u001b[0m\n\u001b[1;37m             ^\u001b[0m\n\u001b[1;31mSyntaxError\u001b[0m\u001b[1;31m:\u001b[0m invalid syntax\n"
     ]
    }
   ],
   "source": [
    "unsigned hash(char *s) {\n",
    "    unsigned hashval;\n",
    "    for (hashval = 0; *s != '\\0'; s++)\n",
    "        hashval = *s + 31 * hashval;\n",
    "    return hashval % 101;\n",
    "}\n"
   ]
  },
  {
   "cell_type": "markdown",
   "id": "03081383",
   "metadata": {},
   "source": [
    "the goals is to \n",
    "- Convert the function to Python.\n",
    "\n",
    "- Test it with a few strings.\n",
    "\n",
    "- Explain why 31 and 101 are used.\n",
    "\n",
    "- Include mistake version first, then correct version.\n",
    "\n",
    "- Add natural markdown, comments, and commits."
   ]
  },
  {
   "cell_type": "code",
   "execution_count": 5,
   "id": "4ebf4981",
   "metadata": {},
   "outputs": [
    {
     "ename": "TypeError",
     "evalue": "ord() expected a character, but string of length 5 found",
     "output_type": "error",
     "traceback": [
      "\u001b[1;31m---------------------------------------------------------------------------\u001b[0m",
      "\u001b[1;31mTypeError\u001b[0m                                 Traceback (most recent call last)",
      "Cell \u001b[1;32mIn[5], line 8\u001b[0m\n\u001b[0;32m      6\u001b[0m     \u001b[38;5;28;01mreturn\u001b[39;00m hashval \u001b[38;5;241m%\u001b[39m \u001b[38;5;241m101\u001b[39m \u001b[38;5;66;03m# Return the hash value modulo 101 to keep it within a reasonable range\u001b[39;00m\n\u001b[0;32m      7\u001b[0m \u001b[38;5;66;03m# Testing the simple_hash function\u001b[39;00m\n\u001b[1;32m----> 8\u001b[0m \u001b[38;5;28mprint\u001b[39m(simple_hash(\u001b[38;5;124m\"\u001b[39m\u001b[38;5;124mhello\u001b[39m\u001b[38;5;124m\"\u001b[39m))\n",
      "Cell \u001b[1;32mIn[5], line 5\u001b[0m, in \u001b[0;36msimple_hash\u001b[1;34m(s)\u001b[0m\n\u001b[0;32m      3\u001b[0m hashval \u001b[38;5;241m=\u001b[39m \u001b[38;5;241m0\u001b[39m \u001b[38;5;66;03m# Initialize hash value to 0    \u001b[39;00m\n\u001b[0;32m      4\u001b[0m \u001b[38;5;28;01mfor\u001b[39;00m char \u001b[38;5;129;01min\u001b[39;00m s: \u001b[38;5;66;03m# Iterate over each character in the string\u001b[39;00m\n\u001b[1;32m----> 5\u001b[0m     hashval \u001b[38;5;241m=\u001b[39m hashval \u001b[38;5;241m*\u001b[39m \u001b[38;5;241m31\u001b[39m \u001b[38;5;241m+\u001b[39m \u001b[38;5;28mord\u001b[39m(s) \u001b[38;5;66;03m# Update hash value using the character's ASCII value\u001b[39;00m\n\u001b[0;32m      6\u001b[0m \u001b[38;5;28;01mreturn\u001b[39;00m hashval \u001b[38;5;241m%\u001b[39m \u001b[38;5;241m101\u001b[39m\n",
      "\u001b[1;31mTypeError\u001b[0m: ord() expected a character, but string of length 5 found"
     ]
    }
   ],
   "source": [
    "def simple_hash(s):\n",
    "    # Simple hash function that takes a string and returns a hash value.\n",
    "    hashval = 0 # Initialize hash value to 0    \n",
    "    for char in s: # Iterate over each character in the string\n",
    "        hashval = hashval * 31 + ord(s) # Update hash value using the character's ASCII value\n",
    "    return hashval % 101 # Return the hash value modulo 101 to keep it within a reasonable range\n",
    "# Testing the simple_hash function\n",
    "print(simple_hash(\"hello\"))  \n"
   ]
  },
  {
   "cell_type": "markdown",
   "id": "30bea2b5",
   "metadata": {},
   "source": []
  }
 ],
 "metadata": {
  "kernelspec": {
   "display_name": "Python 3",
   "language": "python",
   "name": "python3"
  },
  "language_info": {
   "codemirror_mode": {
    "name": "ipython",
    "version": 3
   },
   "file_extension": ".py",
   "mimetype": "text/x-python",
   "name": "python",
   "nbconvert_exporter": "python",
   "pygments_lexer": "ipython3",
   "version": "3.12.3"
  }
 },
 "nbformat": 4,
 "nbformat_minor": 5
}
