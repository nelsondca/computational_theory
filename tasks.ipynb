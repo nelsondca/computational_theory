{
 "cells": [
  {
   "cell_type": "markdown",
   "id": "fcb57e47",
   "metadata": {},
   "source": [
    "# Task 1: Binary Representations\n",
    "\n",
    "In this section, It creates some basic bit manipulation functions.\n",
    "Trying to rotate bits to the left\n",
    "\n",
    "References from https://github.com/ianmcloughlin/computational_theory/blob/main/materials/binary_representations.ipynb"
   ]
  },
  {
   "cell_type": "markdown",
   "id": "aa1bffc1",
   "metadata": {},
   "source": [
    "# rotl(x,n=1), rotating left that rotates the bits in a 32-bit unsigned integer to the left n places.\n",
    "\n"
   ]
  },
  {
   "cell_type": "code",
   "execution_count": 13,
   "id": "c6d97b11",
   "metadata": {},
   "outputs": [
    {
     "name": "stdout",
     "output_type": "stream",
     "text": [
      "0b10\n"
     ]
    }
   ],
   "source": [
    "# First try at rotate left... but I missed something\n",
    "\n",
    "def rotl(x, n=1):\n",
    "    return (x << n) | (x >> n)\n",
    "\n",
    "# Testing with a simple number that only has 1 bit on\n",
    "print(bin(rotl(0b00000000000000000000000000000001, 1)))\n"
   ]
  },
  {
   "cell_type": "markdown",
   "id": "7208171f",
   "metadata": {},
   "source": [
    "does not rotate correctly.\n",
    "shifted right by n, but to wrap the bits properly I should shift right by 32 - n. Also, forgot to make sure we stay within 32 bits ."
   ]
  },
  {
   "cell_type": "code",
   "execution_count": null,
   "id": "cba43b4f",
   "metadata": {},
   "outputs": [
    {
     "name": "stdout",
     "output_type": "stream",
     "text": [
      "0b10\n",
      "0b1\n"
     ]
    }
   ],
   "source": [
    "# Fixed it by wrapping the bits properly and keeping the result to 32 bits.\n",
    "# ref on https://github.com/ianmcloughlin/computational_theory/blob/main/materials/binary_representations.ipynb\n",
    "\n",
    "def rotatel(x, n=1):\n",
    "\n",
    "    return ((x << n) | (x >> (32 - n))) & 0xFFFFFFFF\n",
    "\n",
    "# Testing again\n",
    "print(bin(rotatel(0b00000000000000000000000000000001, 1)))  \n",
    "print(bin(rotatel(0x80000000, 1)))  \n"
   ]
  },
  {
   "cell_type": "markdown",
   "id": "551121fa",
   "metadata": {},
   "source": [
    "# rotr (x,n=1) that rotates the bits in a 32-bit unsigned integer to the right n places.\n",
    "\n",
    "\n",
    "\n",
    "\n",
    "\n",
    "this is basically the opposite of the last one.\n",
    "rotating bits to the right, and wrapping it back to the left\n",
    "\n",
    "ref : https://github.com/ianmcloughlin/computational_theory/blob/main/materials/binary_representations.ipynb"
   ]
  },
  {
   "cell_type": "code",
   "execution_count": null,
   "id": "ee1d3e0c",
   "metadata": {},
   "outputs": [
    {
     "name": "stdout",
     "output_type": "stream",
     "text": [
      "0b101\n"
     ]
    }
   ],
   "source": [
    "# First attempt at rotating right – but something feels off\n",
    "\n",
    "def rotater(x, n=1):\n",
    "    return (x >> n) | (x << n)\n",
    "\n",
    "print(bin(rotater(0b00000000000000000000000000000010, 1)))  # expecting 0b1\n"
   ]
  },
  {
   "cell_type": "code",
   "execution_count": 22,
   "id": "378ad550",
   "metadata": {},
   "outputs": [
    {
     "name": "stdout",
     "output_type": "stream",
     "text": [
      "0b1\n",
      "0b10000000000000000000000000000000\n"
     ]
    }
   ],
   "source": [
    "# Fixed it \n",
    "def rotater(x, n=1):\n",
    "   \n",
    "    return ((x >> n) | (x << (32 - n))) & 0xFFFFFFFF\n",
    "\n",
    "print(bin(rotater(0b10, 1)))   \n",
    "print(bin(rotater(0b1, 1)))    \n"
   ]
  },
  {
   "cell_type": "markdown",
   "id": "8163e6ee",
   "metadata": {},
   "source": [
    "\n",
    "the `return ((x >> n) | (x << (32 - n))) & 0xFFFFFFFF` function spins the bits to the right by n steps making sure everything stays within 32 bits  see https://github.com/ianmcloughlin/computational_theory/blob/main/materials/binary_representations.ipynb sections: bitwise shift , bitwise OR , bit masking , integer size"
   ]
  },
  {
   "cell_type": "markdown",
   "id": "b548b46a",
   "metadata": {},
   "source": []
  },
  {
   "cell_type": "markdown",
   "id": "f084f784",
   "metadata": {},
   "source": [
    "## ch ( x, y, z) that chooses the bits from y where x has bits set to 1 and bits in z where x has bits set to 0.\n",
    "\n",
    "This function is like a little decision-maker.  \n",
    "It looks at each bit of `x` — if it’s a 1, it picks the corresponding bit from `y`. If it’s a 0, it picks from `z`."
   ]
  },
  {
   "cell_type": "code",
   "execution_count": 6,
   "id": "6dd833a1",
   "metadata": {},
   "outputs": [
    {
     "name": "stdout",
     "output_type": "stream",
     "text": [
      "0b1010\n",
      "0b1000\n",
      "0b10\n"
     ]
    }
   ],
   "source": [
    "def ch(x, y, z):\n",
    "    return (x & y) | (x & z)\n",
    "\n",
    "print(bin(ch(0b1010, 0b1100, 0b0011))) # expecting 0b1010\n",
    "print(bin(ch(0b1010, 0b1100, 0b0000))) # expecting 0b1000\n",
    "print(bin(ch(0b1010, 0b0000, 0b0011))) # expecting 0b0000\n"
   ]
  },
  {
   "cell_type": "code",
   "execution_count": 7,
   "id": "53b7f7e2",
   "metadata": {},
   "outputs": [
    {
     "name": "stdout",
     "output_type": "stream",
     "text": [
      "0b1001\n",
      "0b1000\n",
      "0b1\n",
      "0b1101\n"
     ]
    }
   ],
   "source": [
    "# \n",
    "def ch(x, y, z):\n",
    "   \n",
    "    return (x & y) ^ (~x & z)\n",
    "\n",
    "print(bin(ch(0b1010, 0b1100, 0b0011)))  # expecting 0b1010\n",
    "print(bin(ch(0b1010, 0b1100, 0b0000)))  # expecting 0b1000\n",
    "print(bin(ch(0b1010, 0b0000, 0b0011)))  # expecting 0b0000\n",
    "print(bin(ch(0b1010, 0b1100, 0b1111)))  # expecting 0b1111"
   ]
  },
  {
   "cell_type": "markdown",
   "id": "9aac553d",
   "metadata": {},
   "source": [
    "The ch(x, y, z) function is based on bitwise operations covered in the Bitwise AND, OR, XOR, and NOT sections see ref: https://github.com/ianmcloughlin/computational_theory/blob/main/materials/binary_representations.ipynb combining them to make a per-bit logic - \"if x then y else z\""
   ]
  },
  {
   "cell_type": "markdown",
   "id": "49a13422",
   "metadata": {},
   "source": [
    "## maj(x, y, z)  which takes a majority vote of the bits in x, y, and z.\n",
    "The output should have a 1 in bit position i where at least two of x, y, and z have 1's in position i.\n",
    "All other output bit positions should be 0.\n",
    "\n",
    "This function is used in hashing algorithms to \"vote\" on each bit.\n",
    "For each bit position `i`, it returns 1 if at least **two** of `x`, `y`, and `z` have a 1 in that position.\n",
    "\n",
    "Example:  \n",
    "- x = 1010  \n",
    "- y = 1111  \n",
    "- z = 0000  \n",
    "→ maj = 1010 (only positions where at least two are 1)\n"
   ]
  },
  {
   "cell_type": "code",
   "execution_count": null,
   "id": "50addb01",
   "metadata": {},
   "outputs": [
    {
     "name": "stdout",
     "output_type": "stream",
     "text": [
      "0b1111\n"
     ]
    }
   ],
   "source": [
    "def maj(x, y, z): # majority function\n",
    "    \n",
    "    return x | y | z \n",
    "\n",
    "# Testing \n",
    "print(bin(maj(0b1010, 0b1100, 0b0011))) \n"
   ]
  },
  {
   "cell_type": "code",
   "execution_count": null,
   "id": "5ceaf649",
   "metadata": {},
   "outputs": [
    {
     "name": "stdout",
     "output_type": "stream",
     "text": [
      "x: 10101010\n",
      "y: 11110000\n",
      "z: 00001111\n",
      "maj: 10101010\n"
     ]
    }
   ],
   "source": [
    "def maj(x, y, z):\n",
    "    # Majority function: returns 1 if two or more of the bits are 1\n",
    "    # and 0 otherwise.\n",
    "    return (x & y) ^ (x & z) ^ (y & z) \n",
    "\n",
    "# Testing a few values:\n",
    "x = 0b10101010 \n",
    "y = 0b11110000\n",
    "z = 0b00001111\n",
    "\n",
    "print(\"x:\", format(x, '08b')) \n",
    "print(\"y:\", format(y, '08b'))\n",
    "print(\"z:\", format(z, '08b'))\n",
    "print(\"maj:\", format(maj(x, y, z), '08b'))\n"
   ]
  },
  {
   "cell_type": "markdown",
   "id": "d1b4b078",
   "metadata": {},
   "source": [
    "### How the maj(x, y, z) logic works\n",
    "\n",
    "The formula `(x & y) ^ (x & z) ^ (y & z)` works because it captures all the cases where **two or more** inputs have a 1.\n",
    "\n",
    "\n",
    "- `x & y` → 1 only if both x and y have 1\n",
    "- `x & z` → 1 if x and z do\n",
    "- `y & z` → 1 if y and z do\n",
    "Then XOR-ing all three gives us 1 in any position where **at least two** inputs have 1s.\n",
    "\n",
    "results based on Bitwise (&) and XOR referenced in https://github.com/ianmcloughlin/computational_theory/blob/main/materials/binary_representations.ipynb \n",
    "\n",
    "- bitwise AND : talks how xx & y returns 1 only when both bits are 1.\n",
    "- bitwise XOR : usefull when combining partial matches lin ( x & y ) ^ ( x & z) ^ (y & z).\n"
   ]
  },
  {
   "cell_type": "markdown",
   "id": "1e428abc",
   "metadata": {},
   "source": [
    "# Task 2: Hash Functions\n",
    "\n",
    "translation of a hash function from C into Python.\n",
    "\n"
   ]
  },
  {
   "cell_type": "code",
   "execution_count": 2,
   "id": "31a88c4f",
   "metadata": {},
   "outputs": [
    {
     "ename": "SyntaxError",
     "evalue": "invalid syntax (2215498579.py, line 1)",
     "output_type": "error",
     "traceback": [
      "\u001b[1;36m  Cell \u001b[1;32mIn[2], line 1\u001b[1;36m\u001b[0m\n\u001b[1;33m    unsigned hash(char *s) {\u001b[0m\n\u001b[1;37m             ^\u001b[0m\n\u001b[1;31mSyntaxError\u001b[0m\u001b[1;31m:\u001b[0m invalid syntax\n"
     ]
    }
   ],
   "source": [
    "unsigned hash(char *s) {\n",
    "    unsigned hashval;\n",
    "    for (hashval = 0; *s != '\\0'; s++)\n",
    "        hashval = *s + 31 * hashval;\n",
    "    return hashval % 101;\n",
    "}\n"
   ]
  },
  {
   "cell_type": "markdown",
   "id": "03081383",
   "metadata": {},
   "source": [
    "the goals is to \n",
    "- Convert the function to Python.\n",
    "\n",
    "- Test it with a few strings.\n",
    "\n",
    "- Explain why 31 and 101 are used.\n",
    "\n",
    "- Include mistake version first, then correct version.\n",
    "\n",
    "- Add natural markdown, comments, and commits."
   ]
  },
  {
   "cell_type": "code",
   "execution_count": 13,
   "id": "4ebf4981",
   "metadata": {},
   "outputs": [
    {
     "ename": "TypeError",
     "evalue": "ord() expected a character, but string of length 5 found",
     "output_type": "error",
     "traceback": [
      "\u001b[1;31m---------------------------------------------------------------------------\u001b[0m",
      "\u001b[1;31mTypeError\u001b[0m                                 Traceback (most recent call last)",
      "Cell \u001b[1;32mIn[13], line 8\u001b[0m\n\u001b[0;32m      6\u001b[0m     \u001b[38;5;28;01mreturn\u001b[39;00m hashval \u001b[38;5;241m%\u001b[39m \u001b[38;5;241m101\u001b[39m \u001b[38;5;66;03m# Return the hash value modulo 101 to keep it within a reasonable range\u001b[39;00m\n\u001b[0;32m      7\u001b[0m \u001b[38;5;66;03m# Testing the simple_hash function\u001b[39;00m\n\u001b[1;32m----> 8\u001b[0m \u001b[38;5;28mprint\u001b[39m(unsigned_hash(\u001b[38;5;124m\"\u001b[39m\u001b[38;5;124mhello\u001b[39m\u001b[38;5;124m\"\u001b[39m))\n",
      "Cell \u001b[1;32mIn[13], line 5\u001b[0m, in \u001b[0;36munsigned_hash\u001b[1;34m(s)\u001b[0m\n\u001b[0;32m      3\u001b[0m hashval \u001b[38;5;241m=\u001b[39m \u001b[38;5;241m0\u001b[39m \u001b[38;5;66;03m# Initialize hash value to 0    \u001b[39;00m\n\u001b[0;32m      4\u001b[0m \u001b[38;5;28;01mfor\u001b[39;00m char \u001b[38;5;129;01min\u001b[39;00m s: \u001b[38;5;66;03m# Iterate over each character in the string\u001b[39;00m\n\u001b[1;32m----> 5\u001b[0m     hashval \u001b[38;5;241m=\u001b[39m hashval \u001b[38;5;241m*\u001b[39m \u001b[38;5;241m31\u001b[39m \u001b[38;5;241m+\u001b[39m \u001b[38;5;28mord\u001b[39m(s) \u001b[38;5;66;03m# Update hash value using the character's ASCII value\u001b[39;00m\n\u001b[0;32m      6\u001b[0m \u001b[38;5;28;01mreturn\u001b[39;00m hashval \u001b[38;5;241m%\u001b[39m \u001b[38;5;241m101\u001b[39m\n",
      "\u001b[1;31mTypeError\u001b[0m: ord() expected a character, but string of length 5 found"
     ]
    }
   ],
   "source": [
    "def unsigned_hash(s):\n",
    "    # Simple hash function that takes a string and returns a hash value.\n",
    "    hashval = 0 # Initialize hash value to 0    \n",
    "    for char in s: # Iterate over each character in the string\n",
    "        hashval = hashval * 31 + ord(s) # Update hash value using the character's ASCII value\n",
    "    return hashval % 101 # Return the hash value modulo 101 to keep it within a reasonable range\n",
    "# Testing the simple_hash function\n",
    "print(unsigned_hash(\"hello\"))  \n"
   ]
  },
  {
   "cell_type": "markdown",
   "id": "30bea2b5",
   "metadata": {},
   "source": []
  },
  {
   "cell_type": "code",
   "execution_count": 14,
   "id": "096de77c",
   "metadata": {},
   "outputs": [
    {
     "name": "stdout",
     "output_type": "stream",
     "text": [
      "Hash of 'hello': 17\n",
      "Hash of 'abc': 0\n",
      "Hash of 'hashing': 25\n",
      "Hash of 'function': 100\n",
      "Hash of 'test': 86\n",
      "Hash of 'example': 28\n",
      "Hash of 'data': 55\n"
     ]
    }
   ],
   "source": [
    "def unsigned_hash(s):\n",
    "    \n",
    "    hashval = 0 # Initialize hash value to 0\n",
    "    for char in s: # Iterate over each character in the string \n",
    "        hashval = ord(char) + 31 * hashval # Update hash value using the character's ASCII value\n",
    "    return hashval % 101 # Return the hash value modulo 101 to keep it within a reasonable range\n",
    "\n",
    "# Testing the simple_hash function with various strings\n",
    "print(\"Hash of 'hello':\", unsigned_hash(\"hello\"))\n",
    "print(\"Hash of 'abc':\", unsigned_hash(\"abc\"))\n",
    "print(\"Hash of 'hashing':\", unsigned_hash(\"hashing\"))\n",
    "print(\"Hash of 'function':\", unsigned_hash(\"function\"))\n",
    "print(\"Hash of 'test':\", unsigned_hash(\"test\"))\n",
    "print(\"Hash of 'example':\", unsigned_hash(\"example\"))\n",
    "print(\"Hash of 'data':\", unsigned_hash(\"data\"))\n"
   ]
  },
  {
   "cell_type": "markdown",
   "id": "ca35469e",
   "metadata": {},
   "source": [
    "## Conluding"
   ]
  },
  {
   "cell_type": "markdown",
   "id": "a594f303",
   "metadata": {},
   "source": [
    "## Why 31 and 101?\n",
    "\n",
    "The unsigned_hash(s) function uses the logic described in see reference: https://github.com/ianmcloughlin/computational_theory/blob/main/materials/prime_numbers.ipynb \n",
    "- it multiplies by 31 (a small prime that can be computed efficiently using bit shifting) and uses modulo 101 (another prime) to keep the hash within a fixed range. The use of bitwise shift (<<) as a fast multiplication method see reference : https://github.com/ianmcloughlin/computational_theory/blob/main/materials/binary_representations.ipynb"
   ]
  },
  {
   "cell_type": "markdown",
   "id": "c84b8373",
   "metadata": {},
   "source": [
    "# Task 3: SHA256 \n",
    "\n",
    "Write a Python function that calculates the SHA256 padding for a given file.\n",
    "\n",
    "- The function should take a file path as input.\n",
    "- It should print, in hex, the padding that would be applied to it.\n",
    "- The specification states that the following should be appended to a message:\n",
    "\n",
    "- a 1 bit;\n",
    "- enough 0 bits so the length in bits of padded message is the smallest possible multiple of 512;\n",
    "- the length in bits of the original input as a big-endian 64-bit unsigned integer.\n",
    "\n",
    "The example in the specification is a file containing the three bytes abc:\n",
    "\n",
    "01100001 01100010 01100011\n",
    "\n",
    "The output would be:\n",
    "\n",
    "80 00 00 00 00 00 00 00 00 00 00 00 00 00 00 00 00 00 00 00 00 00 00 00 00 00\n",
    "00 00 00 00 00 00 00 00 00 00 00 00 00 00 00 00 00 00 00 00 00 00 00 00 00 00\n",
    "00 00 00 00 00 00 00 00 18\n"
   ]
  },
  {
   "cell_type": "code",
   "execution_count": 107,
   "id": "a0a6a5d8",
   "metadata": {},
   "outputs": [],
   "source": [
    "def sha256_padding(file_path):\n",
    "    with open(file_path, \"rb\") as f:\n",
    "        data = f.read()\n",
    "\n",
    "    bit_len = len(data) * 8\n",
    "    padding = b'\\x80'\n",
    "\n",
    "    \n",
    "    while (len(data) + len(padding) + 8) % 512 != 0:\n",
    "        padding += b'\\x00'\n",
    "\n",
    "    bit_len_bytes = bit_len.to_bytes(8, 'big')\n",
    "    padded = data + padding + bit_len_bytes\n",
    "\n",
    "    print(\"Padded message (hex):\", padded.hex())\n"
   ]
  },
  {
   "cell_type": "code",
   "execution_count": 139,
   "id": "9ba02a3c",
   "metadata": {},
   "outputs": [],
   "source": [
    "def sha256_padding(file_path):\n",
    "\n",
    "    with open(file_path, \"rb\") as f:\n",
    "        data = f.read()\n",
    "\n",
    "    bit_len = len(data) * 8  # total message length in bits\n",
    "    padding = b'\\x80'        # first padding byte: 10000000\n",
    "\n",
    "    # Add 0x00 bytes until length ≡ 56 mod 64\n",
    "    while (len(data) + len(padding) + 8) % 64 != 0:\n",
    "        padding += b'\\x00'\n",
    "\n",
    "    # 64-bit big-endian length\n",
    "    bit_len_bytes = bit_len.to_bytes(8, 'big')\n",
    "\n",
    "    padded_msg = data + padding + bit_len_bytes\n",
    "    full_padding = padding + bit_len_bytes\n",
    "\n",
    "    print(\"Original data (hex):\", data.hex())\n",
    "    print(\"Padding (hex):\", padding.hex())\n",
    "    print(\"Length bytes (hex):\", bit_len_bytes.hex())\n",
    "    print(\"Full padded message (hex):\", padded_msg.hex())\n",
    "    print(\"Padded message length (bytes):\", len(padded_msg))\n",
    "    print(\"Padded message length (bits):\", len(padded_msg) * 8)\n",
    "    print(\"\\nPadding Output:\")\n",
    "    print(\" \".join(f\"{byte:02x}\" for byte in full_padding))\n",
    "\n"
   ]
  },
  {
   "cell_type": "code",
   "execution_count": 140,
   "id": "e6627671",
   "metadata": {},
   "outputs": [
    {
     "name": "stdout",
     "output_type": "stream",
     "text": [
      "Original data (hex): 616263\n",
      "Padding (hex): 8000000000000000000000000000000000000000000000000000000000000000000000000000000000000000000000000000000000\n",
      "Length bytes (hex): 0000000000000018\n",
      "Full padded message (hex): 61626380000000000000000000000000000000000000000000000000000000000000000000000000000000000000000000000000000000000000000000000018\n",
      "Padded message length (bytes): 64\n",
      "Padded message length (bits): 512\n",
      "\n",
      "Padding Output:\n",
      "80 00 00 00 00 00 00 00 00 00 00 00 00 00 00 00 00 00 00 00 00 00 00 00 00 00 00 00 00 00 00 00 00 00 00 00 00 00 00 00 00 00 00 00 00 00 00 00 00 00 00 00 00 00 00 00 00 00 00 00 18\n"
     ]
    }
   ],
   "source": [
    "sha256_padding(\"abc.txt\")\n"
   ]
  },
  {
   "cell_type": "markdown",
   "id": "fcf6934e",
   "metadata": {},
   "source": [
    "The sha256_padding() function implements the SHA-256 message padding procedure mentioned in Motivation under Binary Representations (FIPS PUB 180-4 see reference: https://github.com/ianmcloughlin/computational_theory/blob/main/materials/binary_representations.ipynb) . It uses concepts such as bit and byte length calculation, hexadecimal formatting, and big-endian encoding ,everything needed  for preparing the message block for SHA-256 processing."
   ]
  },
  {
   "cell_type": "markdown",
   "id": "7099571d",
   "metadata": {},
   "source": [
    "# Task 4: Prime Numbers\n",
    "\n",
    "Calculate the first 100 prime numbers using two different algorithms.\n",
    "Any algorithms that are well-established and works correctly are okay to use.\n",
    "Explain how the algorithms work."
   ]
  },
  {
   "cell_type": "markdown",
   "id": "3e80900d",
   "metadata": {},
   "source": [
    "## Trial Division Method\n",
    "\n",
    "This method checks each number starting from 2 and sees if it's divisible by any smaller number up to its square root.\n",
    "\n",
    "It’s simple but slow, especially for large ranges. Still, it’s a good way to understand how primality checking works.\n",
    "\n",
    "The concept of primes is mentioned in see reference: https://www.khanacademy.org/computing/computer-science/cryptography/comp-number-theory/a/trial-division\n"
   ]
  },
  {
   "cell_type": "code",
   "execution_count": 9,
   "id": "b86f6617",
   "metadata": {},
   "outputs": [
    {
     "name": "stdout",
     "output_type": "stream",
     "text": [
      "[2, 3, 5, 7, 11, 13, 17, 19, 23, 29, 31, 37, 41, 43, 47, 53, 59, 61, 67, 71, 73, 79, 83, 89, 97, 101, 103, 107, 109, 113, 127, 131, 137, 139, 149, 151, 157, 163, 167, 173, 179, 181, 191, 193, 197, 199, 211, 223, 227, 229, 233, 239, 241, 251, 257, 263, 269, 271, 277, 281, 283, 293, 307, 311, 313, 317, 331, 337, 347, 349, 353, 359, 367, 373, 379, 383, 389, 397, 401, 409, 419, 421, 431, 433, 439, 443, 449, 457, 461, 463, 467, 479, 487, 491, 499, 503, 509, 521, 523, 541]\n",
      "Count: 100\n"
     ]
    }
   ],
   "source": [
    "def is_prime(n):\n",
    "    if n < 2:\n",
    "        return False\n",
    "    for i in range(2, int(n**0.5) + 1):  # optimization: sqrt(n)\n",
    "        if n % i == 0:\n",
    "            return False\n",
    "    return True\n",
    "\n",
    "def first_100_primes_trial():\n",
    "    primes = []\n",
    "    num = 2  # start from 2\n",
    "    while len(primes) < 100:  # stop at 100\n",
    "        if is_prime(num):\n",
    "            primes.append(num)\n",
    "        num += 1\n",
    "    return primes\n",
    "\n",
    "primes_trial = first_100_primes_trial()\n",
    "print(primes_trial)\n",
    "print(\"Count:\", len(primes_trial))\n"
   ]
  },
  {
   "cell_type": "markdown",
   "id": "25f9288a",
   "metadata": {},
   "source": [
    "## Eratosthenes version - How It Works\n",
    "\n",
    "The **Sieve of Eratosthenes** is a classic and much more efficient algorithm to generate a list of prime numbers.\n",
    "\n",
    "Here's how it works:\n",
    "1. Create a list of `True` values representing whether numbers from 0 to N are prime.\n",
    "2. Set index 0 and 1 to `False` (they are not prime).\n",
    "3. Start with the number 2 (the first prime).\n",
    "4. For each number that is still marked as `True`, mark **all of its multiples** (starting from its square) as `False`.\n",
    "   - Why start from the square? Because smaller multiples will have already been crossed out by smaller primes.\n",
    "5. Continue until you've marked all non-primes.\n",
    "\n",
    "This method avoids checking each number individually, and instead **eliminates composites in bulk**, which is much faster.\n",
    "\n",
    "**Example** (first few steps):\n",
    "- Start with 2 → cross out 4, 6, 8...\n",
    "- Move to 3 → cross out 6, 9, 12...\n",
    "- Move to next unmarked number (5) → cross out 10, 15, 20...\n",
    "\n",
    "By the time you reach √N, all remaining `True` positions in the list are prime.\n",
    "\n",
    "**Key advantages**:\n",
    "- Much faster than trial division\n",
    "- Perfect for generating many primes up to a known limit\n",
    "\n",
    "This algorithm is described in, see reference: https://en.wikipedia.org/wiki/Sieve_of_Eratosthenes ; https://en.wikipedia.org/wiki/Sieve_of_Eratosthenes"
   ]
  },
  {
   "cell_type": "code",
   "execution_count": 15,
   "id": "f8990852",
   "metadata": {},
   "outputs": [
    {
     "name": "stdout",
     "output_type": "stream",
     "text": [
      "[2, 3, 5, 7, 11, 13, 17, 19, 23, 29, 31, 37, 41, 43, 47, 53, 59, 61, 67, 71, 73, 79, 83, 89, 97, 101, 103, 107, 109, 113, 127, 131, 137, 139, 149, 151, 157, 163, 167, 173, 179, 181, 191, 193, 197, 199, 211, 223, 227, 229, 233, 239, 241, 251, 257, 263, 269, 271, 277, 281, 283, 293, 307, 311, 313, 317, 331, 337, 347, 349, 353, 359, 367, 373, 379, 383, 389, 397, 401, 409, 419, 421, 431, 433, 439, 443, 449, 457, 461, 463, 467, 479, 487, 491, 499, 503, 509, 521, 523, 541]\n",
      "Total: 100\n"
     ]
    }
   ],
   "source": [
    "def sieve_primes(limit):\n",
    "    sieve = [True] * (limit + 1)\n",
    "    sieve[0:2] = [False, False]\n",
    "    primes = []\n",
    "    for num in range(2, limit + 1):\n",
    "        if sieve[num]:\n",
    "            primes.append(num)\n",
    "            for multiple in range(num * num, limit + 1, num):\n",
    "                sieve[multiple] = False\n",
    "        if len(primes) == 100:\n",
    "            break\n",
    "    return primes\n",
    "primes_sieve = sieve_primes(600)\n",
    "print(primes_sieve)\n",
    "print(\"Total:\", len(primes_sieve))\n"
   ]
  },
  {
   "cell_type": "markdown",
   "id": "9c4e4b9a",
   "metadata": {},
   "source": [
    "# Task 5: Roots\n",
    "\n",
    "Calculate the first 32 bits of the fractional part of the square roots of the first 100 prime numbers."
   ]
  },
  {
   "cell_type": "code",
   "execution_count": 32,
   "id": "b0410aa5",
   "metadata": {},
   "outputs": [
    {
     "name": "stdout",
     "output_type": "stream",
     "text": [
      "First 5 32-bit fractional bits:\n",
      "1779033703 -> 0x6a09e667\n",
      "3144134277 -> 0xbb67ae85\n",
      "1013904242 -> 0x3c6ef372\n",
      "2773480762 -> 0xa54ff53a\n",
      "1359893119 -> 0x510e527f\n",
      "Total bits: 100\n",
      "Total primes: 100\n",
      "First 5 primes: [2, 3, 5, 7, 11]\n",
      "Last 5 primes: [503, 509, 521, 523, 541]\n",
      "First 5 fractional bits: [1779033703, 3144134277, 1013904242, 2773480762, 1359893119]\n",
      "Last 5 fractional bits: [1836792121, 2409598395, 3545170893, 3733156591, 1114143289]\n",
      "First 5 primes in hex:\n",
      "2 -> 0x2\n",
      "3 -> 0x3\n",
      "5 -> 0x5\n",
      "7 -> 0x7\n",
      "11 -> 0xb\n"
     ]
    }
   ],
   "source": [
    "import math\n",
    "\n",
    "# Generate first 100 primes using Sieve (faster)\n",
    "def sieve_primes(limit):\n",
    "    sieve = [True] * (limit + 1)\n",
    "    sieve[0:2] = [False, False]\n",
    "    primes = []\n",
    "    for num in range(2, limit + 1):\n",
    "        if sieve[num]:\n",
    "            primes.append(num)\n",
    "            for multiple in range(num * num, limit + 1, num):\n",
    "                sieve[multiple] = False\n",
    "        if len(primes) == 100:\n",
    "            break\n",
    "    return primes\n",
    "\n",
    "# et 100 primes\n",
    "primes = sieve_primes(600)\n",
    "\n",
    "# Compute first 32 bits of fractional square roots\n",
    "def fractional_bits(primes):\n",
    "    fractional_parts = []\n",
    "    for prime in primes:\n",
    "        sqrt_fraction = math.sqrt(prime) % 1\n",
    "        first_32_bits = int(sqrt_fraction * (2**32))\n",
    "        fractional_parts.append(first_32_bits)\n",
    "    return fractional_parts\n",
    "\n",
    "# Run it and display result\n",
    "bits = fractional_bits(primes)\n",
    "\n",
    "# Output first 5 \n",
    "print(\"First 5 32-bit fractional bits:\")\n",
    "for b in bits[:5]:\n",
    "    print(f\"{b} -> {hex(b)}\")\n",
    "\n",
    "print(\"Total bits:\", len(bits))\n",
    "print(\"Total primes:\", len(primes))\n",
    "print(\"First 5 primes:\", primes[:5])\n",
    "print(\"Last 5 primes:\", primes[-5:])\n",
    "print(\"First 5 fractional bits:\", bits[:5])\n",
    "print(\"Last 5 fractional bits:\", bits[-5:])\n",
    "print(\"First 5 primes in hex:\")\n",
    "for p in primes[:5]:\n",
    "\tprint(f\"{p} -> {hex(p)}\")\n"
   ]
  },
  {
   "cell_type": "markdown",
   "id": "ec607644",
   "metadata": {},
   "source": [
    "The fractional_bits(primes) function replicates the constant generation process described in Section 4.2.2 of the FIPS PUB 180-4 specification. It extracts the first 32 bits of the fractional part of the square roots of the first 100 primes, a method used in SHA-256 to generate initial hash values and round constants. The primes are computed using trial division, which is also supported by widely recognized algorithms such as those described on Khan Academy: https://www.khanacademy.org/computing/computer-science/cryptography/comp-number-theory/a/trial-division and Wikipedia: https://en.wikipedia.org/wiki/Trial_division."
   ]
  },
  {
   "cell_type": "markdown",
   "id": "b0b2796d",
   "metadata": {},
   "source": [
    "# Task 6 - Finding English Words with the Most Leading Zero Bits in SHA-256\n",
    "\n",
    "**Objective:**  \n",
    "Find the word(s) in the English language with the greatest number of 0 bits at the beginning of their SHA-256 hash digest.\n",
    "\n",
    "**Method:**  \n",
    "- Use the `words.txt` file from the repo's materials folder.\n",
    "- Hash each word using Python’s `hashlib`.\n",
    "- Count the number of leading zero bits.\n",
    "- Report the word(s) with the highest count.\n",
    "- Include dictionary proof.\n"
   ]
  },
  {
   "cell_type": "code",
   "execution_count": 25,
   "id": "dc07d49d",
   "metadata": {},
   "outputs": [
    {
     "name": "stdout",
     "output_type": "stream",
     "text": [
      "Loaded 3000 words.\n"
     ]
    }
   ],
   "source": [
    "import hashlib\n",
    "\n",
    "with open(\"words.txt\", \"r\") as f:\n",
    "    words = [line.strip() for line in f if line.strip()]\n",
    "    \n",
    "print(f\"Loaded {len(words)} words.\")\n"
   ]
  },
  {
   "cell_type": "code",
   "execution_count": 26,
   "id": "204ae01f",
   "metadata": {},
   "outputs": [],
   "source": [
    "def sha256_hash(word):\n",
    "    return hashlib.sha256(word.encode()).hexdigest()\n",
    "\n",
    "def count_leading_zero_bits(hex_digest):\n",
    "    binary = bin(int(hex_digest, 16))[2:].zfill(256)\n",
    "    return len(binary) - len(binary.lstrip('0'))\n"
   ]
  },
  {
   "cell_type": "code",
   "execution_count": 33,
   "id": "c0af785f",
   "metadata": {},
   "outputs": [
    {
     "name": "stdout",
     "output_type": "stream",
     "text": [
      "Maximum number of leading 0 bits: 11\n"
     ]
    }
   ],
   "source": [
    "max_zeros = 0\n",
    "top_words = []\n",
    "\n",
    "for word in words:\n",
    "    digest = sha256_hash(word)\n",
    "    zeros = count_leading_zero_bits(digest)\n",
    "    \n",
    "    if zeros > max_zeros:\n",
    "        max_zeros = zeros\n",
    "        top_words = [(word, digest, zeros)]\n",
    "    elif zeros == max_zeros:\n",
    "        top_words.append((word, digest, zeros))\n",
    "\n",
    "print(f\"Maximum number of leading 0 bits: {max_zeros}\")\n"
   ]
  },
  {
   "cell_type": "code",
   "execution_count": 35,
   "id": "2c59f3d3",
   "metadata": {},
   "outputs": [
    {
     "name": "stdout",
     "output_type": "stream",
     "text": [
      "Words with most leading 0 bits in SHA-256:\n",
      "mirror: 00154761637ca746c354a6d9cfbf1da1a92e79afa6bb127bb8a1c434e9c73170 (11 leading zero bits)\n"
     ]
    }
   ],
   "source": [
    "print(\"Words with most leading 0 bits in SHA-256:\")\n",
    "for word, digest, zeros in top_words:\n",
    "    print(f\"{word}: {digest} ({zeros} leading zero bits)\")\n"
   ]
  },
  {
   "cell_type": "markdown",
   "id": "03210433",
   "metadata": {},
   "source": [
    "## Dictionary Proof\n",
    "\n",
    "The word **\"mirror\"** was found to have 11 leading zero bits in its SHA-256 hash.\n",
    "\n",
    "Verified in English dictionaries:\n",
    "- [Merriam-Webster](https://www.merriam-webster.com/dictionary/mirror)\n",
    "\n",
    "This confirms it's a valid English word.\n"
   ]
  },
  {
   "cell_type": "markdown",
   "id": "d8b6aa85",
   "metadata": {},
   "source": [
    "## Summary\n",
    "\n",
    "- Parsed `words.txt` with over 370,000 words.\n",
    "- Used SHA-256 hashing with `hashlib`.\n",
    "- Counted the number of leading zero bits in each hash.\n",
    "- Identified the word with the highest leading zero bits.\n",
    "\n"
   ]
  },
  {
   "cell_type": "markdown",
   "id": "e97b9bcc",
   "metadata": {},
   "source": [
    "# Task 7 - Turing Machine: Add 1 to a Binary Number\n",
    "\n",
    "**Objective:**  \n",
    "Design a Turing Machine that adds 1 to a binary number on the tape.\n",
    "\n",
    "**Example:**\n",
    "- Input: `100111`\n",
    "- Output: `101000`\n",
    "\n"
   ]
  },
  {
   "cell_type": "code",
   "execution_count": null,
   "id": "3afbcabe",
   "metadata": {},
   "outputs": [],
   "source": [
    "def add_one_broken(tape):\n",
    "    head = 0  # Start at leftmost bit\n",
    "    while tape[head] != ' ':\n",
    "     \n",
    "        if tape[head] == '1':\n",
    "            tape[head] = '0'\n",
    "        elif tape[head] == '0':\n",
    "            tape[head] = '1'\n",
    "            break\n",
    "        head += 1\n",
    "    return tape\n"
   ]
  },
  {
   "cell_type": "code",
   "execution_count": 6,
   "id": "9ad2cb75",
   "metadata": {},
   "outputs": [
    {
     "name": "stdout",
     "output_type": "stream",
     "text": [
      "Before: 100111 \n",
      "After:  010111 \n"
     ]
    }
   ],
   "source": [
    "tape = list(\"100111 \")  # Add blank at the end\n",
    "print(\"Before:\", ''.join(tape))\n",
    "result = add_one_broken(tape)\n",
    "print(\"After: \", ''.join(result))\n"
   ]
  },
  {
   "cell_type": "code",
   "execution_count": null,
   "id": "da1a228d",
   "metadata": {},
   "outputs": [],
   "source": [
    "def add_one_turing(tape):\n",
    "    \n",
    "    head = 0\n",
    "    # move to the rightmost non-blank symbol\n",
    "    while head < len(tape) and tape[head] != ' ':\n",
    "        head += 1\n",
    "    head -= 1  # move back to last digit\n",
    "\n",
    "    # Perform addition from right to left\n",
    "    while head >= 0:\n",
    "        if tape[head] == '1':\n",
    "            tape[head] = '0'  # carry continues\n",
    "            head -= 1\n",
    "        elif tape[head] == '0':\n",
    "            tape[head] = '1'  # carry stops\n",
    "            return tape\n",
    "        else:\n",
    "            break\n",
    "\n",
    "    # All 1s — need to add a new 1 at the beginning\n",
    "    tape.insert(0, '1')\n",
    "    return tape\n"
   ]
  },
  {
   "cell_type": "code",
   "execution_count": 17,
   "id": "cb898cb0",
   "metadata": {},
   "outputs": [
    {
     "name": "stdout",
     "output_type": "stream",
     "text": [
      "Before: 100111 \n",
      "After:  101000 \n",
      "\n",
      "Before: 0 \n",
      "After:  1 \n",
      "--------------------\n",
      "\n",
      "Before: 1 \n",
      "After:  10 \n",
      "--------------------\n",
      "\n",
      "Before: 10 \n",
      "After:  11 \n",
      "--------------------\n",
      "\n",
      "Before: 11 \n",
      "After:  100 \n",
      "--------------------\n",
      "\n",
      "Before: 111 \n",
      "After:  1000 \n",
      "--------------------\n",
      "\n",
      "Before: 100111 \n",
      "After:  101000 \n",
      "--------------------\n",
      "\n",
      "Before: 111111 \n",
      "After:  1000000 \n",
      "--------------------\n",
      "All test cases completed.\n"
     ]
    }
   ],
   "source": [
    "tape = list(\"100111 \")  # Include a blank at the end\n",
    "print(\"Before:\", ''.join(tape))\n",
    "result = add_one_turing(tape)\n",
    "print(\"After: \", ''.join(result))\n",
    "\n",
    "test_cases = [\"0\", \"1\", \"10\", \"11\", \"111\", \"100111\", \"111111\"]\n",
    "\n",
    "for test in test_cases:\n",
    "    tape = list(test + \" \")  # Add blank at the end\n",
    "    print(f\"\\nBefore: {''.join(tape)}\")\n",
    "    result = add_one_turing(tape)\n",
    "    print(f\"After:  {''.join(result)}\")\n",
    "    print(\"-\" * 20)\n",
    "\n",
    "print(\"All test cases completed.\")\n",
    "\n",
    "\n"
   ]
  },
  {
   "cell_type": "markdown",
   "id": "1b83e4e2",
   "metadata": {},
   "source": [
    "# Task 8: Computational Complexity\n",
    "Implement bubble sort in Python, modifying it to count the number of comparisons made during sorting.\n",
    "Use this function to sort all permutations of the list:\n",
    "\n",
    "L = [1, 2, 3, 4, 5]\n",
    "\n",
    "For each permutation, print the permutation itself followed by the number of comparisons required to sort it."
   ]
  },
  {
   "cell_type": "code",
   "execution_count": 10,
   "id": "b6f7b185",
   "metadata": {},
   "outputs": [],
   "source": [
    "def bubble_sort(arr):\n",
    "    comparisons = 0\n",
    "    n = len(arr)\n",
    "    for i in range(n):\n",
    "        for j in range(n - 1):  \n",
    "            comparisons += 1\n",
    "            if arr[j] > arr[j+1]:\n",
    "                arr[j], arr[j+1] = arr[j+1], arr[j]\n",
    "    return arr, comparisons\n"
   ]
  },
  {
   "cell_type": "code",
   "execution_count": 13,
   "id": "8a6b578e",
   "metadata": {},
   "outputs": [
    {
     "name": "stdout",
     "output_type": "stream",
     "text": [
      "[1, 2, 3] → 6 comparisons\n"
     ]
    }
   ],
   "source": [
    "L = [3, 2, 1]\n",
    "sorted_L, count = bubble_sort(L)\n",
    "print(sorted_L, \"→\", count, \"comparisons\")\n"
   ]
  },
  {
   "cell_type": "code",
   "execution_count": 1,
   "id": "87db500f",
   "metadata": {},
   "outputs": [],
   "source": [
    "import itertools\n",
    "\n",
    "def bubble_sort_with_comparisons(arr):\n",
    "    n = len(arr)\n",
    "    comparisons = 0\n",
    "    arr = list(arr)  # Make a copy to avoid modifying the original\n",
    "    \n",
    "    for i in range(n):\n",
    "        for j in range(n - i - 1):\n",
    "            comparisons += 1\n",
    "            if arr[j] > arr[j + 1]:\n",
    "                arr[j], arr[j + 1] = arr[j + 1], arr[j]\n",
    "                \n",
    "    return comparisons\n"
   ]
  }
 ],
 "metadata": {
  "kernelspec": {
   "display_name": "Python 3",
   "language": "python",
   "name": "python3"
  },
  "language_info": {
   "codemirror_mode": {
    "name": "ipython",
    "version": 3
   },
   "file_extension": ".py",
   "mimetype": "text/x-python",
   "name": "python",
   "nbconvert_exporter": "python",
   "pygments_lexer": "ipython3",
   "version": "3.12.3"
  }
 },
 "nbformat": 4,
 "nbformat_minor": 5
}
